{
 "cells": [
  {
   "cell_type": "markdown",
   "metadata": {},
   "source": [
    "# Ingeniería de features, modelos avanzados e interpretación de modelos\n",
    "\n",
    "## Realizado por: María Isabel Sierra S\n",
    "\n",
    "### PARTE A - Transformación de Datos\n",
    "\n",
    "1.  Detección y eliminación de Outliers\n",
    "2.  Encoding\n",
    "3.  Escalado de datos"
   ]
  },
  {
   "cell_type": "code",
   "execution_count": 1,
   "metadata": {},
   "outputs": [],
   "source": [
    "import pandas as pd \n",
    "import numpy as np\n",
    "import matplotlib.pyplot as plt\n",
    "import seaborn as sns"
   ]
  },
  {
   "cell_type": "code",
   "execution_count": 2,
   "metadata": {},
   "outputs": [
    {
     "name": "stdout",
     "output_type": "stream",
     "text": [
      "<class 'pandas.core.frame.DataFrame'>\n",
      "RangeIndex: 146660 entries, 0 to 146659\n",
      "Data columns (total 19 columns):\n",
      " #   Column           Non-Null Count   Dtype  \n",
      "---  ------           --------------   -----  \n",
      " 0   start_date       146660 non-null  object \n",
      " 1   end_date         146660 non-null  object \n",
      " 2   created_on       146660 non-null  object \n",
      " 3   lat              136735 non-null  float64\n",
      " 4   lon              136701 non-null  float64\n",
      " 5   l1               146660 non-null  object \n",
      " 6   l2               146660 non-null  object \n",
      " 7   l3               146660 non-null  object \n",
      " 8   rooms            146660 non-null  float64\n",
      " 9   bedrooms         146660 non-null  float64\n",
      " 10  bathrooms        140703 non-null  float64\n",
      " 11  surface_total    126133 non-null  float64\n",
      " 12  surface_covered  125046 non-null  float64\n",
      " 13  price            146660 non-null  float64\n",
      " 14  currency         146660 non-null  object \n",
      " 15  title            146660 non-null  object \n",
      " 16  description      146660 non-null  object \n",
      " 17  property_type    146660 non-null  object \n",
      " 18  operation_type   146660 non-null  object \n",
      "dtypes: float64(8), object(11)\n",
      "memory usage: 21.3+ MB\n"
     ]
    }
   ],
   "source": [
    "data = pd.read_csv('DS_Proyecto_01_Datos_Properati.csv', header=0)\n",
    "data.info()"
   ]
  },
  {
   "cell_type": "markdown",
   "metadata": {},
   "source": [
    "## Check point dataset\n",
    "\n",
    "Cumpliendo las instancias anteriores dadas en el Sprint 1 para poder llevar a cabo la comparación de desempeño entre el mejor modelo obtenido **árbol de decisión** como benchmark, se filtran los siguientes lineamientos:\n",
    "\n",
    "- Selecciona aquellas propiedades en Capital Federal y cuyo tipo de propiedad es Departamento, PH o Casa.\n",
    "- Selecciona aquellas propiedades cuya superficie total es menor a 1000 m2 y mayor a 15 m2.\n",
    "- Selecciona aquellas propiedades cuya precio es menor 4000000 dólares.\n",
    "- Selecciona las columnas rooms, bedrooms, bathrooms, surface_total, surface_covered y price."
   ]
  },
  {
   "cell_type": "code",
   "execution_count": 3,
   "metadata": {},
   "outputs": [],
   "source": [
    "#Solo datos de Capital Federal\n",
    "data = data.loc[(data['l2']=='Capital Federal')]"
   ]
  },
  {
   "cell_type": "code",
   "execution_count": 4,
   "metadata": {},
   "outputs": [
    {
     "data": {
      "text/plain": [
       "array(['Departamento', 'PH', 'Casa'], dtype=object)"
      ]
     },
     "execution_count": 4,
     "metadata": {},
     "output_type": "execute_result"
    }
   ],
   "source": [
    "#Tipo de propiedad\n",
    "data = data.loc[(data['property_type']=='Departamento') | (data['property_type']=='PH') | (data['property_type']=='Casa')]\n",
    "data.property_type.unique()"
   ]
  },
  {
   "cell_type": "code",
   "execution_count": 5,
   "metadata": {},
   "outputs": [
    {
     "data": {
      "text/plain": [
       "start_date            0\n",
       "end_date              0\n",
       "created_on            0\n",
       "lat                4534\n",
       "lon                4548\n",
       "l1                    0\n",
       "l2                    0\n",
       "l3                    0\n",
       "rooms                 0\n",
       "bedrooms              0\n",
       "bathrooms          2171\n",
       "surface_total      8917\n",
       "surface_covered    9235\n",
       "price                 0\n",
       "currency              0\n",
       "title                 0\n",
       "description           0\n",
       "property_type         0\n",
       "operation_type        0\n",
       "dtype: int64"
      ]
     },
     "execution_count": 5,
     "metadata": {},
     "output_type": "execute_result"
    }
   ],
   "source": [
    "data.isnull().sum()"
   ]
  },
  {
   "cell_type": "code",
   "execution_count": 6,
   "metadata": {},
   "outputs": [],
   "source": [
    "#Propiedades mayor a 15 y menores a 1000 m^2\n",
    "data = data[(data.surface_total <= 1000) & (data.surface_total >= 15)\n",
    "           ]"
   ]
  },
  {
   "cell_type": "code",
   "execution_count": 7,
   "metadata": {},
   "outputs": [],
   "source": [
    "#Eliminar propiedades que superen los 4M USD\n",
    "data = data[(data.price <= 4000000)]"
   ]
  },
  {
   "cell_type": "code",
   "execution_count": 8,
   "metadata": {},
   "outputs": [
    {
     "data": {
      "text/plain": [
       "start_date            0\n",
       "end_date              0\n",
       "created_on            0\n",
       "lat                4263\n",
       "lon                4263\n",
       "l1                    0\n",
       "l2                    0\n",
       "l3                    0\n",
       "rooms                 0\n",
       "bedrooms              0\n",
       "bathrooms           880\n",
       "surface_total         0\n",
       "surface_covered     517\n",
       "price                 0\n",
       "currency              0\n",
       "title                 0\n",
       "description           0\n",
       "property_type         0\n",
       "operation_type        0\n",
       "dtype: int64"
      ]
     },
     "execution_count": 8,
     "metadata": {},
     "output_type": "execute_result"
    }
   ],
   "source": [
    "data.isnull().sum()"
   ]
  },
  {
   "cell_type": "code",
   "execution_count": 9,
   "metadata": {},
   "outputs": [
    {
     "data": {
      "text/html": [
       "<div>\n",
       "<style scoped>\n",
       "    .dataframe tbody tr th:only-of-type {\n",
       "        vertical-align: middle;\n",
       "    }\n",
       "\n",
       "    .dataframe tbody tr th {\n",
       "        vertical-align: top;\n",
       "    }\n",
       "\n",
       "    .dataframe thead th {\n",
       "        text-align: right;\n",
       "    }\n",
       "</style>\n",
       "<table border=\"1\" class=\"dataframe\">\n",
       "  <thead>\n",
       "    <tr style=\"text-align: right;\">\n",
       "      <th></th>\n",
       "      <th>start_date</th>\n",
       "      <th>end_date</th>\n",
       "      <th>created_on</th>\n",
       "      <th>lat</th>\n",
       "      <th>lon</th>\n",
       "      <th>l1</th>\n",
       "      <th>l2</th>\n",
       "      <th>l3</th>\n",
       "      <th>rooms</th>\n",
       "      <th>bedrooms</th>\n",
       "      <th>bathrooms</th>\n",
       "      <th>surface_total</th>\n",
       "      <th>surface_covered</th>\n",
       "      <th>price</th>\n",
       "      <th>currency</th>\n",
       "      <th>title</th>\n",
       "      <th>description</th>\n",
       "      <th>property_type</th>\n",
       "      <th>operation_type</th>\n",
       "    </tr>\n",
       "  </thead>\n",
       "  <tbody>\n",
       "    <tr>\n",
       "      <th>446</th>\n",
       "      <td>2019-03-04</td>\n",
       "      <td>2019-08-17</td>\n",
       "      <td>2019-03-04</td>\n",
       "      <td>-34.613369</td>\n",
       "      <td>-58.488637</td>\n",
       "      <td>Argentina</td>\n",
       "      <td>Capital Federal</td>\n",
       "      <td>Villa Santa Rita</td>\n",
       "      <td>5.0</td>\n",
       "      <td>4.0</td>\n",
       "      <td>3.0</td>\n",
       "      <td>230.0</td>\n",
       "      <td>244.0</td>\n",
       "      <td>490000.0</td>\n",
       "      <td>USD</td>\n",
       "      <td>VENTA CASA 5 AMBIENTES</td>\n",
       "      <td>Corredor Responsable: Mónica Silvia Martinuzzi...</td>\n",
       "      <td>Casa</td>\n",
       "      <td>Venta</td>\n",
       "    </tr>\n",
       "    <tr>\n",
       "      <th>859</th>\n",
       "      <td>2019-04-25</td>\n",
       "      <td>2019-05-21</td>\n",
       "      <td>2019-04-25</td>\n",
       "      <td>-34.561805</td>\n",
       "      <td>-58.459579</td>\n",
       "      <td>Argentina</td>\n",
       "      <td>Capital Federal</td>\n",
       "      <td>Belgrano</td>\n",
       "      <td>3.0</td>\n",
       "      <td>2.0</td>\n",
       "      <td>1.0</td>\n",
       "      <td>43.0</td>\n",
       "      <td>44.0</td>\n",
       "      <td>133000.0</td>\n",
       "      <td>USD</td>\n",
       "      <td>Departamento 3 ambientes.Belgrano</td>\n",
       "      <td>Corredor Responsable: Gustavo Guastello - C.U....</td>\n",
       "      <td>Departamento</td>\n",
       "      <td>Venta</td>\n",
       "    </tr>\n",
       "    <tr>\n",
       "      <th>924</th>\n",
       "      <td>2019-04-25</td>\n",
       "      <td>9999-12-31</td>\n",
       "      <td>2019-04-25</td>\n",
       "      <td>-34.584201</td>\n",
       "      <td>-58.496345</td>\n",
       "      <td>Argentina</td>\n",
       "      <td>Capital Federal</td>\n",
       "      <td>Villa Pueyrredón</td>\n",
       "      <td>3.0</td>\n",
       "      <td>2.0</td>\n",
       "      <td>1.0</td>\n",
       "      <td>65.0</td>\n",
       "      <td>66.0</td>\n",
       "      <td>187000.0</td>\n",
       "      <td>USD</td>\n",
       "      <td>VENTA DEPTO 3 AMB VILLA PUEYRREDON CON COCHERA</td>\n",
       "      <td>Corredor Responsable: EMMA A. PIERSIMONI - CPI...</td>\n",
       "      <td>Departamento</td>\n",
       "      <td>Venta</td>\n",
       "    </tr>\n",
       "    <tr>\n",
       "      <th>1329</th>\n",
       "      <td>2019-07-08</td>\n",
       "      <td>2019-11-12</td>\n",
       "      <td>2019-07-08</td>\n",
       "      <td>-34.576322</td>\n",
       "      <td>-58.406275</td>\n",
       "      <td>Argentina</td>\n",
       "      <td>Capital Federal</td>\n",
       "      <td>Recoleta</td>\n",
       "      <td>2.0</td>\n",
       "      <td>1.0</td>\n",
       "      <td>2.0</td>\n",
       "      <td>44.0</td>\n",
       "      <td>45.0</td>\n",
       "      <td>235000.0</td>\n",
       "      <td>USD</td>\n",
       "      <td>DIVINO 2 AMB BAÑO Y TOIL RECICLADO POR ARQUITECTO</td>\n",
       "      <td>Corredor Responsable: KARINA QUINTEROS - CUCIC...</td>\n",
       "      <td>Departamento</td>\n",
       "      <td>Venta</td>\n",
       "    </tr>\n",
       "    <tr>\n",
       "      <th>1438</th>\n",
       "      <td>2019-07-08</td>\n",
       "      <td>2019-08-17</td>\n",
       "      <td>2019-07-08</td>\n",
       "      <td>-34.610787</td>\n",
       "      <td>-58.393919</td>\n",
       "      <td>Argentina</td>\n",
       "      <td>Capital Federal</td>\n",
       "      <td>Congreso</td>\n",
       "      <td>3.0</td>\n",
       "      <td>2.0</td>\n",
       "      <td>1.0</td>\n",
       "      <td>78.0</td>\n",
       "      <td>79.0</td>\n",
       "      <td>235000.0</td>\n",
       "      <td>USD</td>\n",
       "      <td>Venta dep-Congreso 3 amb-Restaurado-Impecable-</td>\n",
       "      <td>Corredor Responsable: Ariel Champanier - C.U.C...</td>\n",
       "      <td>Departamento</td>\n",
       "      <td>Venta</td>\n",
       "    </tr>\n",
       "    <tr>\n",
       "      <th>...</th>\n",
       "      <td>...</td>\n",
       "      <td>...</td>\n",
       "      <td>...</td>\n",
       "      <td>...</td>\n",
       "      <td>...</td>\n",
       "      <td>...</td>\n",
       "      <td>...</td>\n",
       "      <td>...</td>\n",
       "      <td>...</td>\n",
       "      <td>...</td>\n",
       "      <td>...</td>\n",
       "      <td>...</td>\n",
       "      <td>...</td>\n",
       "      <td>...</td>\n",
       "      <td>...</td>\n",
       "      <td>...</td>\n",
       "      <td>...</td>\n",
       "      <td>...</td>\n",
       "      <td>...</td>\n",
       "    </tr>\n",
       "    <tr>\n",
       "      <th>145138</th>\n",
       "      <td>2020-01-15</td>\n",
       "      <td>2020-03-12</td>\n",
       "      <td>2020-01-15</td>\n",
       "      <td>-34.626300</td>\n",
       "      <td>-58.452418</td>\n",
       "      <td>Argentina</td>\n",
       "      <td>Capital Federal</td>\n",
       "      <td>Caballito</td>\n",
       "      <td>1.0</td>\n",
       "      <td>1.0</td>\n",
       "      <td>1.0</td>\n",
       "      <td>24.0</td>\n",
       "      <td>25.0</td>\n",
       "      <td>54900.0</td>\n",
       "      <td>USD</td>\n",
       "      <td>VENTA DEPTO MONOAMBIENTE- IDEAL INVERSOR-CABAL...</td>\n",
       "      <td>Corredor Responsable: Patricia Maria Sodor - C...</td>\n",
       "      <td>Departamento</td>\n",
       "      <td>Venta</td>\n",
       "    </tr>\n",
       "    <tr>\n",
       "      <th>145146</th>\n",
       "      <td>2020-01-15</td>\n",
       "      <td>2020-01-21</td>\n",
       "      <td>2020-01-15</td>\n",
       "      <td>-34.605086</td>\n",
       "      <td>-58.384630</td>\n",
       "      <td>Argentina</td>\n",
       "      <td>Capital Federal</td>\n",
       "      <td>San Nicolás</td>\n",
       "      <td>1.0</td>\n",
       "      <td>1.0</td>\n",
       "      <td>1.0</td>\n",
       "      <td>21.0</td>\n",
       "      <td>22.0</td>\n",
       "      <td>48000.0</td>\n",
       "      <td>USD</td>\n",
       "      <td>Monoambiente exc ubicación 1 cuadra obelisco</td>\n",
       "      <td>Corredor Responsable: Marcelo Trujillo - CUCIC...</td>\n",
       "      <td>Departamento</td>\n",
       "      <td>Venta</td>\n",
       "    </tr>\n",
       "    <tr>\n",
       "      <th>145262</th>\n",
       "      <td>2020-01-15</td>\n",
       "      <td>9999-12-31</td>\n",
       "      <td>2020-01-15</td>\n",
       "      <td>-34.600988</td>\n",
       "      <td>-58.433062</td>\n",
       "      <td>Argentina</td>\n",
       "      <td>Capital Federal</td>\n",
       "      <td>Villa Crespo</td>\n",
       "      <td>3.0</td>\n",
       "      <td>2.0</td>\n",
       "      <td>1.0</td>\n",
       "      <td>51.0</td>\n",
       "      <td>52.0</td>\n",
       "      <td>127000.0</td>\n",
       "      <td>USD</td>\n",
       "      <td>Depto 3 ambientes.Muy buen estado. Villa crespo</td>\n",
       "      <td>Corredor Responsable: Patricia Maria Sodor - C...</td>\n",
       "      <td>Departamento</td>\n",
       "      <td>Venta</td>\n",
       "    </tr>\n",
       "    <tr>\n",
       "      <th>145376</th>\n",
       "      <td>2020-01-15</td>\n",
       "      <td>2020-02-05</td>\n",
       "      <td>2020-01-15</td>\n",
       "      <td>-34.650700</td>\n",
       "      <td>-58.385906</td>\n",
       "      <td>Argentina</td>\n",
       "      <td>Capital Federal</td>\n",
       "      <td>Barracas</td>\n",
       "      <td>6.0</td>\n",
       "      <td>4.0</td>\n",
       "      <td>2.0</td>\n",
       "      <td>197.0</td>\n",
       "      <td>290.0</td>\n",
       "      <td>329900.0</td>\n",
       "      <td>USD</td>\n",
       "      <td>CASA 6 AMBIENTES LOTE PROPIO BARRACAS</td>\n",
       "      <td>Corredor Responsable: GUILLERMO FRIMET - CUCIC...</td>\n",
       "      <td>Casa</td>\n",
       "      <td>Venta</td>\n",
       "    </tr>\n",
       "    <tr>\n",
       "      <th>145383</th>\n",
       "      <td>2020-01-15</td>\n",
       "      <td>2020-02-05</td>\n",
       "      <td>2020-01-15</td>\n",
       "      <td>-34.647387</td>\n",
       "      <td>-58.388259</td>\n",
       "      <td>Argentina</td>\n",
       "      <td>Capital Federal</td>\n",
       "      <td>Barracas</td>\n",
       "      <td>7.0</td>\n",
       "      <td>5.0</td>\n",
       "      <td>1.0</td>\n",
       "      <td>124.0</td>\n",
       "      <td>170.0</td>\n",
       "      <td>99000.0</td>\n",
       "      <td>USD</td>\n",
       "      <td>Excelente OP/ Casa lote propio a refaccionar !!</td>\n",
       "      <td>Corredor Responsable: GUILLERMO FRIMET - CUCIC...</td>\n",
       "      <td>Casa</td>\n",
       "      <td>Venta</td>\n",
       "    </tr>\n",
       "  </tbody>\n",
       "</table>\n",
       "<p>751 rows × 19 columns</p>\n",
       "</div>"
      ],
      "text/plain": [
       "        start_date    end_date  created_on        lat        lon         l1  \\\n",
       "446     2019-03-04  2019-08-17  2019-03-04 -34.613369 -58.488637  Argentina   \n",
       "859     2019-04-25  2019-05-21  2019-04-25 -34.561805 -58.459579  Argentina   \n",
       "924     2019-04-25  9999-12-31  2019-04-25 -34.584201 -58.496345  Argentina   \n",
       "1329    2019-07-08  2019-11-12  2019-07-08 -34.576322 -58.406275  Argentina   \n",
       "1438    2019-07-08  2019-08-17  2019-07-08 -34.610787 -58.393919  Argentina   \n",
       "...            ...         ...         ...        ...        ...        ...   \n",
       "145138  2020-01-15  2020-03-12  2020-01-15 -34.626300 -58.452418  Argentina   \n",
       "145146  2020-01-15  2020-01-21  2020-01-15 -34.605086 -58.384630  Argentina   \n",
       "145262  2020-01-15  9999-12-31  2020-01-15 -34.600988 -58.433062  Argentina   \n",
       "145376  2020-01-15  2020-02-05  2020-01-15 -34.650700 -58.385906  Argentina   \n",
       "145383  2020-01-15  2020-02-05  2020-01-15 -34.647387 -58.388259  Argentina   \n",
       "\n",
       "                     l2                l3  rooms  bedrooms  bathrooms  \\\n",
       "446     Capital Federal  Villa Santa Rita    5.0       4.0        3.0   \n",
       "859     Capital Federal          Belgrano    3.0       2.0        1.0   \n",
       "924     Capital Federal  Villa Pueyrredón    3.0       2.0        1.0   \n",
       "1329    Capital Federal          Recoleta    2.0       1.0        2.0   \n",
       "1438    Capital Federal          Congreso    3.0       2.0        1.0   \n",
       "...                 ...               ...    ...       ...        ...   \n",
       "145138  Capital Federal         Caballito    1.0       1.0        1.0   \n",
       "145146  Capital Federal       San Nicolás    1.0       1.0        1.0   \n",
       "145262  Capital Federal      Villa Crespo    3.0       2.0        1.0   \n",
       "145376  Capital Federal          Barracas    6.0       4.0        2.0   \n",
       "145383  Capital Federal          Barracas    7.0       5.0        1.0   \n",
       "\n",
       "        surface_total  surface_covered     price currency  \\\n",
       "446             230.0            244.0  490000.0      USD   \n",
       "859              43.0             44.0  133000.0      USD   \n",
       "924              65.0             66.0  187000.0      USD   \n",
       "1329             44.0             45.0  235000.0      USD   \n",
       "1438             78.0             79.0  235000.0      USD   \n",
       "...               ...              ...       ...      ...   \n",
       "145138           24.0             25.0   54900.0      USD   \n",
       "145146           21.0             22.0   48000.0      USD   \n",
       "145262           51.0             52.0  127000.0      USD   \n",
       "145376          197.0            290.0  329900.0      USD   \n",
       "145383          124.0            170.0   99000.0      USD   \n",
       "\n",
       "                                                    title  \\\n",
       "446                                VENTA CASA 5 AMBIENTES   \n",
       "859                     Departamento 3 ambientes.Belgrano   \n",
       "924        VENTA DEPTO 3 AMB VILLA PUEYRREDON CON COCHERA   \n",
       "1329    DIVINO 2 AMB BAÑO Y TOIL RECICLADO POR ARQUITECTO   \n",
       "1438       Venta dep-Congreso 3 amb-Restaurado-Impecable-   \n",
       "...                                                   ...   \n",
       "145138  VENTA DEPTO MONOAMBIENTE- IDEAL INVERSOR-CABAL...   \n",
       "145146       Monoambiente exc ubicación 1 cuadra obelisco   \n",
       "145262    Depto 3 ambientes.Muy buen estado. Villa crespo   \n",
       "145376              CASA 6 AMBIENTES LOTE PROPIO BARRACAS   \n",
       "145383    Excelente OP/ Casa lote propio a refaccionar !!   \n",
       "\n",
       "                                              description property_type  \\\n",
       "446     Corredor Responsable: Mónica Silvia Martinuzzi...          Casa   \n",
       "859     Corredor Responsable: Gustavo Guastello - C.U....  Departamento   \n",
       "924     Corredor Responsable: EMMA A. PIERSIMONI - CPI...  Departamento   \n",
       "1329    Corredor Responsable: KARINA QUINTEROS - CUCIC...  Departamento   \n",
       "1438    Corredor Responsable: Ariel Champanier - C.U.C...  Departamento   \n",
       "...                                                   ...           ...   \n",
       "145138  Corredor Responsable: Patricia Maria Sodor - C...  Departamento   \n",
       "145146  Corredor Responsable: Marcelo Trujillo - CUCIC...  Departamento   \n",
       "145262  Corredor Responsable: Patricia Maria Sodor - C...  Departamento   \n",
       "145376  Corredor Responsable: GUILLERMO FRIMET - CUCIC...          Casa   \n",
       "145383  Corredor Responsable: GUILLERMO FRIMET - CUCIC...          Casa   \n",
       "\n",
       "       operation_type  \n",
       "446             Venta  \n",
       "859             Venta  \n",
       "924             Venta  \n",
       "1329            Venta  \n",
       "1438            Venta  \n",
       "...               ...  \n",
       "145138          Venta  \n",
       "145146          Venta  \n",
       "145262          Venta  \n",
       "145376          Venta  \n",
       "145383          Venta  \n",
       "\n",
       "[751 rows x 19 columns]"
      ]
     },
     "execution_count": 9,
     "metadata": {},
     "output_type": "execute_result"
    }
   ],
   "source": [
    "data[(data.surface_covered > data.surface_total)] "
   ]
  },
  {
   "cell_type": "code",
   "execution_count": 10,
   "metadata": {},
   "outputs": [],
   "source": [
    "#Reemplazar aquellas instancias que cumplen que la superficie cubierta sea mayor que la total por la superficie tota\n",
    "data['surface_covered'] = np.where(data.surface_covered > data.surface_total, data['surface_total'], data['surface_covered'])"
   ]
  },
  {
   "cell_type": "code",
   "execution_count": 11,
   "metadata": {},
   "outputs": [],
   "source": [
    "#Imputar aquellos valores nulos que existen de surface_covered, por aquellos que si tiene surface_total\n",
    "data['surface_covered'] = np.where(data['surface_covered'] == 'nan', data['surface_covered'], data['surface_total'])"
   ]
  },
  {
   "cell_type": "code",
   "execution_count": 12,
   "metadata": {},
   "outputs": [
    {
     "name": "stdout",
     "output_type": "stream",
     "text": [
      "<class 'pandas.core.frame.DataFrame'>\n",
      "Int64Index: 82373 entries, 0 to 146558\n",
      "Data columns (total 19 columns):\n",
      " #   Column           Non-Null Count  Dtype  \n",
      "---  ------           --------------  -----  \n",
      " 0   start_date       82373 non-null  object \n",
      " 1   end_date         82373 non-null  object \n",
      " 2   created_on       82373 non-null  object \n",
      " 3   lat              78110 non-null  float64\n",
      " 4   lon              78110 non-null  float64\n",
      " 5   l1               82373 non-null  object \n",
      " 6   l2               82373 non-null  object \n",
      " 7   l3               82373 non-null  object \n",
      " 8   rooms            82373 non-null  float64\n",
      " 9   bedrooms         82373 non-null  float64\n",
      " 10  bathrooms        81493 non-null  float64\n",
      " 11  surface_total    82373 non-null  float64\n",
      " 12  surface_covered  82373 non-null  float64\n",
      " 13  price            82373 non-null  float64\n",
      " 14  currency         82373 non-null  object \n",
      " 15  title            82373 non-null  object \n",
      " 16  description      82373 non-null  object \n",
      " 17  property_type    82373 non-null  object \n",
      " 18  operation_type   82373 non-null  object \n",
      "dtypes: float64(8), object(11)\n",
      "memory usage: 12.6+ MB\n"
     ]
    }
   ],
   "source": [
    "data.info()"
   ]
  },
  {
   "cell_type": "markdown",
   "metadata": {},
   "source": [
    "### 1. Detección y eliminación de Outliers\n",
    "\n",
    "#### EDA - Visualización de outliers"
   ]
  },
  {
   "cell_type": "markdown",
   "metadata": {},
   "source": [
    "#### Rango intercuartíl"
   ]
  },
  {
   "cell_type": "code",
   "execution_count": 13,
   "metadata": {},
   "outputs": [
    {
     "data": {
      "text/html": [
       "<div>\n",
       "<style scoped>\n",
       "    .dataframe tbody tr th:only-of-type {\n",
       "        vertical-align: middle;\n",
       "    }\n",
       "\n",
       "    .dataframe tbody tr th {\n",
       "        vertical-align: top;\n",
       "    }\n",
       "\n",
       "    .dataframe thead th {\n",
       "        text-align: right;\n",
       "    }\n",
       "</style>\n",
       "<table border=\"1\" class=\"dataframe\">\n",
       "  <thead>\n",
       "    <tr style=\"text-align: right;\">\n",
       "      <th></th>\n",
       "      <th>lat</th>\n",
       "      <th>lon</th>\n",
       "      <th>rooms</th>\n",
       "      <th>bedrooms</th>\n",
       "      <th>bathrooms</th>\n",
       "      <th>surface_total</th>\n",
       "      <th>surface_covered</th>\n",
       "      <th>price</th>\n",
       "    </tr>\n",
       "  </thead>\n",
       "  <tbody>\n",
       "    <tr>\n",
       "      <th>count</th>\n",
       "      <td>78110.000000</td>\n",
       "      <td>78110.000000</td>\n",
       "      <td>82373.000000</td>\n",
       "      <td>82373.000000</td>\n",
       "      <td>81493.000000</td>\n",
       "      <td>82373.000000</td>\n",
       "      <td>82373.000000</td>\n",
       "      <td>8.237300e+04</td>\n",
       "    </tr>\n",
       "    <tr>\n",
       "      <th>mean</th>\n",
       "      <td>-34.598459</td>\n",
       "      <td>-58.435010</td>\n",
       "      <td>3.006810</td>\n",
       "      <td>2.000413</td>\n",
       "      <td>1.553495</td>\n",
       "      <td>95.239714</td>\n",
       "      <td>95.239714</td>\n",
       "      <td>2.628461e+05</td>\n",
       "    </tr>\n",
       "    <tr>\n",
       "      <th>std</th>\n",
       "      <td>0.023533</td>\n",
       "      <td>0.035893</td>\n",
       "      <td>1.308269</td>\n",
       "      <td>1.051184</td>\n",
       "      <td>0.852610</td>\n",
       "      <td>77.258098</td>\n",
       "      <td>77.258098</td>\n",
       "      <td>2.976546e+05</td>\n",
       "    </tr>\n",
       "    <tr>\n",
       "      <th>min</th>\n",
       "      <td>-34.696419</td>\n",
       "      <td>-58.530468</td>\n",
       "      <td>1.000000</td>\n",
       "      <td>0.000000</td>\n",
       "      <td>1.000000</td>\n",
       "      <td>15.000000</td>\n",
       "      <td>15.000000</td>\n",
       "      <td>6.000000e+03</td>\n",
       "    </tr>\n",
       "    <tr>\n",
       "      <th>25%</th>\n",
       "      <td>-34.612337</td>\n",
       "      <td>-58.457843</td>\n",
       "      <td>2.000000</td>\n",
       "      <td>1.000000</td>\n",
       "      <td>1.000000</td>\n",
       "      <td>49.000000</td>\n",
       "      <td>49.000000</td>\n",
       "      <td>1.250000e+05</td>\n",
       "    </tr>\n",
       "    <tr>\n",
       "      <th>50%</th>\n",
       "      <td>-34.598771</td>\n",
       "      <td>-58.432867</td>\n",
       "      <td>3.000000</td>\n",
       "      <td>2.000000</td>\n",
       "      <td>1.000000</td>\n",
       "      <td>71.000000</td>\n",
       "      <td>71.000000</td>\n",
       "      <td>1.799000e+05</td>\n",
       "    </tr>\n",
       "    <tr>\n",
       "      <th>75%</th>\n",
       "      <td>-34.584180</td>\n",
       "      <td>-58.409600</td>\n",
       "      <td>4.000000</td>\n",
       "      <td>3.000000</td>\n",
       "      <td>2.000000</td>\n",
       "      <td>110.000000</td>\n",
       "      <td>110.000000</td>\n",
       "      <td>2.800000e+05</td>\n",
       "    </tr>\n",
       "    <tr>\n",
       "      <th>max</th>\n",
       "      <td>-34.535909</td>\n",
       "      <td>-58.353930</td>\n",
       "      <td>26.000000</td>\n",
       "      <td>15.000000</td>\n",
       "      <td>14.000000</td>\n",
       "      <td>1000.000000</td>\n",
       "      <td>1000.000000</td>\n",
       "      <td>4.000000e+06</td>\n",
       "    </tr>\n",
       "  </tbody>\n",
       "</table>\n",
       "</div>"
      ],
      "text/plain": [
       "                lat           lon         rooms      bedrooms     bathrooms  \\\n",
       "count  78110.000000  78110.000000  82373.000000  82373.000000  81493.000000   \n",
       "mean     -34.598459    -58.435010      3.006810      2.000413      1.553495   \n",
       "std        0.023533      0.035893      1.308269      1.051184      0.852610   \n",
       "min      -34.696419    -58.530468      1.000000      0.000000      1.000000   \n",
       "25%      -34.612337    -58.457843      2.000000      1.000000      1.000000   \n",
       "50%      -34.598771    -58.432867      3.000000      2.000000      1.000000   \n",
       "75%      -34.584180    -58.409600      4.000000      3.000000      2.000000   \n",
       "max      -34.535909    -58.353930     26.000000     15.000000     14.000000   \n",
       "\n",
       "       surface_total  surface_covered         price  \n",
       "count   82373.000000     82373.000000  8.237300e+04  \n",
       "mean       95.239714        95.239714  2.628461e+05  \n",
       "std        77.258098        77.258098  2.976546e+05  \n",
       "min        15.000000        15.000000  6.000000e+03  \n",
       "25%        49.000000        49.000000  1.250000e+05  \n",
       "50%        71.000000        71.000000  1.799000e+05  \n",
       "75%       110.000000       110.000000  2.800000e+05  \n",
       "max      1000.000000      1000.000000  4.000000e+06  "
      ]
     },
     "execution_count": 13,
     "metadata": {},
     "output_type": "execute_result"
    }
   ],
   "source": [
    "data.describe()"
   ]
  },
  {
   "cell_type": "markdown",
   "metadata": {},
   "source": [
    "Las variables que se encuentran con mayor dispersión o desviación estándar de los datos es price, surface_covered y surface_total. La detección de valores atípicos se realizará para la variable de surface_total, ya que esta es la variable más importante a tener en cuenta en referencia al precio de una propiedad. Se puede observar también, que la desviación estándar de surface_covered es similar a la variable que procederé a detectar atípicos. Es probable que al eliminar valores atípicos en surface_total, los valores atípicos de surface_covered sean eliminados. "
   ]
  },
  {
   "cell_type": "code",
   "execution_count": 14,
   "metadata": {},
   "outputs": [
    {
     "name": "stderr",
     "output_type": "stream",
     "text": [
      "C:\\Users\\isabe\\Anaconda3\\lib\\site-packages\\seaborn\\_decorators.py:36: FutureWarning: Pass the following variable as a keyword arg: x. From version 0.12, the only valid positional argument will be `data`, and passing other arguments without an explicit keyword will result in an error or misinterpretation.\n",
      "  warnings.warn(\n"
     ]
    },
    {
     "data": {
      "image/png": "[encoded data removed]",
      "text/plain": [
       "<Figure size 720x288 with 1 Axes>"
      ]
     },
     "metadata": {
      "needs_background": "light"
     },
     "output_type": "display_data"
    },
    {
     "data": {
      "image/png": "[encoded data removed]",
      "text/plain": [
       "<Figure size 720x288 with 1 Axes>"
      ]
     },
     "metadata": {
      "needs_background": "light"
     },
     "output_type": "display_data"
    },
    {
     "data": {
      "image/png": "[encoded data removed]",
      "text/plain": [
       "<Figure size 720x288 with 1 Axes>"
      ]
     },
     "metadata": {
      "needs_background": "light"
     },
     "output_type": "display_data"
    },
    {
     "name": "stderr",
     "output_type": "stream",
     "text": [
      "C:\\Users\\isabe\\Anaconda3\\lib\\site-packages\\seaborn\\distributions.py:2551: FutureWarning: `distplot` is a deprecated function and will be removed in a future version. Please adapt your code to use either `displot` (a figure-level function with similar flexibility) or `histplot` (an axes-level function for histograms).\n",
      "  warnings.warn(msg, FutureWarning)\n"
     ]
    },
    {
     "data": {
      "image/png": "[encoded data removed]",
      "text/plain": [
       "<Figure size 720x288 with 1 Axes>"
      ]
     },
     "metadata": {
      "needs_background": "light"
     },
     "output_type": "display_data"
    }
   ],
   "source": [
    "#Visualización de datos\n",
    "def Box_plots(df):\n",
    "    plt.figure(figsize=(10, 4))\n",
    "    plt.title(\"Box Plot\")\n",
    "    sns.boxplot(df)\n",
    "    plt.show()\n",
    "Box_plots(data['surface_total'])\n",
    "\n",
    "def hist_plots(df):\n",
    "    plt.figure(figsize=(10, 4))\n",
    "    plt.hist(df)\n",
    "    plt.title(\"Histogram Plot\")\n",
    "    plt.show()\n",
    "hist_plots(data['surface_total'])\n",
    "\n",
    "def scatter_plots(df1,df2):\n",
    "    fig, ax = plt.subplots(figsize=(10,4))\n",
    "    ax.scatter(df1,df2)\n",
    "    ax.set_xlabel('Price')\n",
    "    ax.set_ylabel('Surface Total')\n",
    "    plt.title(\"Scatter Plot\")\n",
    "    plt.show()\n",
    "scatter_plots(data['surface_total'], data['surface_covered'])\n",
    "\n",
    "def dist_plots(df):\n",
    "    plt.figure(figsize=(10, 4))\n",
    "    sns.distplot(df)\n",
    "    plt.title(\"Distribution plot\")\n",
    "    sns.despine()\n",
    "    plt.show()\n",
    "dist_plots(data['surface_total'])"
   ]
  },
  {
   "cell_type": "code",
   "execution_count": 15,
   "metadata": {},
   "outputs": [
    {
     "name": "stderr",
     "output_type": "stream",
     "text": [
      "C:\\Users\\isabe\\Anaconda3\\lib\\site-packages\\seaborn\\_decorators.py:36: FutureWarning: Pass the following variable as a keyword arg: x. From version 0.12, the only valid positional argument will be `data`, and passing other arguments without an explicit keyword will result in an error or misinterpretation.\n",
      "  warnings.warn(\n"
     ]
    },
    {
     "data": {
      "image/png": "[encoded data removed]",
      "text/plain": [
       "<Figure size 432x288 with 1 Axes>"
      ]
     },
     "metadata": {
      "needs_background": "light"
     },
     "output_type": "display_data"
    },
    {
     "name": "stderr",
     "output_type": "stream",
     "text": [
      "C:\\Users\\isabe\\Anaconda3\\lib\\site-packages\\seaborn\\_decorators.py:36: FutureWarning: Pass the following variable as a keyword arg: x. From version 0.12, the only valid positional argument will be `data`, and passing other arguments without an explicit keyword will result in an error or misinterpretation.\n",
      "  warnings.warn(\n"
     ]
    },
    {
     "data": {
      "image/png": "[encoded data removed]",
      "text/plain": [
       "<Figure size 432x288 with 1 Axes>"
      ]
     },
     "metadata": {
      "needs_background": "light"
     },
     "output_type": "display_data"
    }
   ],
   "source": [
    "#Eliminación de valores atípicos por rango intercuartil (surface_total)\n",
    "sns.boxplot(data['surface_total'])\n",
    "plt.title(\"Box Plot before outlier removing\")\n",
    "plt.show()\n",
    "\n",
    "def drop_outliers(df, field_name):\n",
    "    iqr = 1.5 * (df[field_name].quantile(0.75) - df[field_name].quantile(0.25))\n",
    "            \n",
    "    df.drop(df[df[field_name] > (iqr + df[field_name].quantile(0.75))].index, inplace=True)\n",
    "    df.drop(df[df[field_name] < (df[field_name].quantile(0.25) - iqr)].index, inplace=True)\n",
    "    \n",
    "drop_outliers(data, 'surface_total')\n",
    "sns.boxplot(data['surface_total'])\n",
    "plt.title(\"Box Plot after outlier removing\")\n",
    "plt.show()"
   ]
  },
  {
   "cell_type": "code",
   "execution_count": 16,
   "metadata": {},
   "outputs": [
    {
     "data": {
      "text/html": [
       "<div>\n",
       "<style scoped>\n",
       "    .dataframe tbody tr th:only-of-type {\n",
       "        vertical-align: middle;\n",
       "    }\n",
       "\n",
       "    .dataframe tbody tr th {\n",
       "        vertical-align: top;\n",
       "    }\n",
       "\n",
       "    .dataframe thead th {\n",
       "        text-align: right;\n",
       "    }\n",
       "</style>\n",
       "<table border=\"1\" class=\"dataframe\">\n",
       "  <thead>\n",
       "    <tr style=\"text-align: right;\">\n",
       "      <th></th>\n",
       "      <th>lat</th>\n",
       "      <th>lon</th>\n",
       "      <th>rooms</th>\n",
       "      <th>bedrooms</th>\n",
       "      <th>bathrooms</th>\n",
       "      <th>surface_total</th>\n",
       "      <th>surface_covered</th>\n",
       "      <th>price</th>\n",
       "    </tr>\n",
       "  </thead>\n",
       "  <tbody>\n",
       "    <tr>\n",
       "      <th>count</th>\n",
       "      <td>72376.000000</td>\n",
       "      <td>72376.000000</td>\n",
       "      <td>76102.000000</td>\n",
       "      <td>76102.000000</td>\n",
       "      <td>75297.000000</td>\n",
       "      <td>76102.000000</td>\n",
       "      <td>76102.000000</td>\n",
       "      <td>7.610200e+04</td>\n",
       "    </tr>\n",
       "    <tr>\n",
       "      <th>mean</th>\n",
       "      <td>-34.598436</td>\n",
       "      <td>-58.435434</td>\n",
       "      <td>2.820609</td>\n",
       "      <td>1.862566</td>\n",
       "      <td>1.439008</td>\n",
       "      <td>77.910199</td>\n",
       "      <td>77.910199</td>\n",
       "      <td>2.131970e+05</td>\n",
       "    </tr>\n",
       "    <tr>\n",
       "      <th>std</th>\n",
       "      <td>0.023226</td>\n",
       "      <td>0.035327</td>\n",
       "      <td>1.079006</td>\n",
       "      <td>0.907443</td>\n",
       "      <td>0.702699</td>\n",
       "      <td>39.603014</td>\n",
       "      <td>39.603014</td>\n",
       "      <td>1.537878e+05</td>\n",
       "    </tr>\n",
       "    <tr>\n",
       "      <th>min</th>\n",
       "      <td>-34.695087</td>\n",
       "      <td>-58.530467</td>\n",
       "      <td>1.000000</td>\n",
       "      <td>0.000000</td>\n",
       "      <td>1.000000</td>\n",
       "      <td>15.000000</td>\n",
       "      <td>15.000000</td>\n",
       "      <td>6.000000e+03</td>\n",
       "    </tr>\n",
       "    <tr>\n",
       "      <th>25%</th>\n",
       "      <td>-34.612099</td>\n",
       "      <td>-58.457861</td>\n",
       "      <td>2.000000</td>\n",
       "      <td>1.000000</td>\n",
       "      <td>1.000000</td>\n",
       "      <td>48.000000</td>\n",
       "      <td>48.000000</td>\n",
       "      <td>1.200000e+05</td>\n",
       "    </tr>\n",
       "    <tr>\n",
       "      <th>50%</th>\n",
       "      <td>-34.599003</td>\n",
       "      <td>-58.433197</td>\n",
       "      <td>3.000000</td>\n",
       "      <td>2.000000</td>\n",
       "      <td>1.000000</td>\n",
       "      <td>67.000000</td>\n",
       "      <td>67.000000</td>\n",
       "      <td>1.690000e+05</td>\n",
       "    </tr>\n",
       "    <tr>\n",
       "      <th>75%</th>\n",
       "      <td>-34.584784</td>\n",
       "      <td>-58.411317</td>\n",
       "      <td>4.000000</td>\n",
       "      <td>2.000000</td>\n",
       "      <td>2.000000</td>\n",
       "      <td>98.000000</td>\n",
       "      <td>98.000000</td>\n",
       "      <td>2.500000e+05</td>\n",
       "    </tr>\n",
       "    <tr>\n",
       "      <th>max</th>\n",
       "      <td>-34.535909</td>\n",
       "      <td>-58.353930</td>\n",
       "      <td>21.000000</td>\n",
       "      <td>15.000000</td>\n",
       "      <td>14.000000</td>\n",
       "      <td>201.000000</td>\n",
       "      <td>201.000000</td>\n",
       "      <td>3.249900e+06</td>\n",
       "    </tr>\n",
       "  </tbody>\n",
       "</table>\n",
       "</div>"
      ],
      "text/plain": [
       "                lat           lon         rooms      bedrooms     bathrooms  \\\n",
       "count  72376.000000  72376.000000  76102.000000  76102.000000  75297.000000   \n",
       "mean     -34.598436    -58.435434      2.820609      1.862566      1.439008   \n",
       "std        0.023226      0.035327      1.079006      0.907443      0.702699   \n",
       "min      -34.695087    -58.530467      1.000000      0.000000      1.000000   \n",
       "25%      -34.612099    -58.457861      2.000000      1.000000      1.000000   \n",
       "50%      -34.599003    -58.433197      3.000000      2.000000      1.000000   \n",
       "75%      -34.584784    -58.411317      4.000000      2.000000      2.000000   \n",
       "max      -34.535909    -58.353930     21.000000     15.000000     14.000000   \n",
       "\n",
       "       surface_total  surface_covered         price  \n",
       "count   76102.000000     76102.000000  7.610200e+04  \n",
       "mean       77.910199        77.910199  2.131970e+05  \n",
       "std        39.603014        39.603014  1.537878e+05  \n",
       "min        15.000000        15.000000  6.000000e+03  \n",
       "25%        48.000000        48.000000  1.200000e+05  \n",
       "50%        67.000000        67.000000  1.690000e+05  \n",
       "75%        98.000000        98.000000  2.500000e+05  \n",
       "max       201.000000       201.000000  3.249900e+06  "
      ]
     },
     "execution_count": 16,
     "metadata": {},
     "output_type": "execute_result"
    }
   ],
   "source": [
    "data.describe()"
   ]
  },
  {
   "cell_type": "code",
   "execution_count": 17,
   "metadata": {},
   "outputs": [
    {
     "data": {
      "image/png": "[encoded data removed]",
      "text/plain": [
       "<Figure size 864x720 with 1 Axes>"
      ]
     },
     "metadata": {
      "needs_background": "light"
     },
     "output_type": "display_data"
    }
   ],
   "source": [
    "plt.figure(figsize = (12,10))\n",
    "\n",
    "df_1 = data[['rooms', 'bedrooms']]\n",
    "\n",
    "ax = sns.boxplot(data=df_1, orient=\"h\", palette=\"Set2\")"
   ]
  },
  {
   "cell_type": "code",
   "execution_count": 18,
   "metadata": {},
   "outputs": [
    {
     "data": {
      "image/png": "[encoded data removed]",
      "text/plain": [
       "<Figure size 720x288 with 1 Axes>"
      ]
     },
     "metadata": {
      "needs_background": "light"
     },
     "output_type": "display_data"
    }
   ],
   "source": [
    "def scatter_plots(df1,df2):\n",
    "    fig, ax = plt.subplots(figsize=(10,4))\n",
    "    ax.scatter(df1,df2)\n",
    "    ax.set_xlabel('rooms')\n",
    "    ax.set_ylabel('bedrooms')\n",
    "    plt.title(\"Scatter Plot\")\n",
    "    plt.show()\n",
    "scatter_plots(data['rooms'], data['bedrooms'])"
   ]
  },
  {
   "cell_type": "markdown",
   "metadata": {},
   "source": [
    "En la variable *rooms* se puede visualizar un valor atípico de 21 habitaciones. Vamos a visualizar esta instancia y otras que parecen sospechosas para observar si existe alguna inconsistencia."
   ]
  },
  {
   "cell_type": "code",
   "execution_count": 19,
   "metadata": {},
   "outputs": [
    {
     "data": {
      "text/html": [
       "<div>\n",
       "<style scoped>\n",
       "    .dataframe tbody tr th:only-of-type {\n",
       "        vertical-align: middle;\n",
       "    }\n",
       "\n",
       "    .dataframe tbody tr th {\n",
       "        vertical-align: top;\n",
       "    }\n",
       "\n",
       "    .dataframe thead th {\n",
       "        text-align: right;\n",
       "    }\n",
       "</style>\n",
       "<table border=\"1\" class=\"dataframe\">\n",
       "  <thead>\n",
       "    <tr style=\"text-align: right;\">\n",
       "      <th></th>\n",
       "      <th>start_date</th>\n",
       "      <th>end_date</th>\n",
       "      <th>created_on</th>\n",
       "      <th>lat</th>\n",
       "      <th>lon</th>\n",
       "      <th>l1</th>\n",
       "      <th>l2</th>\n",
       "      <th>l3</th>\n",
       "      <th>rooms</th>\n",
       "      <th>bedrooms</th>\n",
       "      <th>bathrooms</th>\n",
       "      <th>surface_total</th>\n",
       "      <th>surface_covered</th>\n",
       "      <th>price</th>\n",
       "      <th>currency</th>\n",
       "      <th>title</th>\n",
       "      <th>description</th>\n",
       "      <th>property_type</th>\n",
       "      <th>operation_type</th>\n",
       "    </tr>\n",
       "  </thead>\n",
       "  <tbody>\n",
       "    <tr>\n",
       "      <th>42577</th>\n",
       "      <td>2019-12-08</td>\n",
       "      <td>2019-12-17</td>\n",
       "      <td>2019-12-08</td>\n",
       "      <td>-34.5942</td>\n",
       "      <td>-58.4038</td>\n",
       "      <td>Argentina</td>\n",
       "      <td>Capital Federal</td>\n",
       "      <td>Recoleta</td>\n",
       "      <td>21.0</td>\n",
       "      <td>1.0</td>\n",
       "      <td>1.0</td>\n",
       "      <td>53.0</td>\n",
       "      <td>53.0</td>\n",
       "      <td>135000.0</td>\n",
       "      <td>USD</td>\n",
       "      <td>Depto 2 ambientes Excelente Ubicación!</td>\n",
       "      <td>Corredor Responsable: Veronica Grela Reina - C...</td>\n",
       "      <td>Departamento</td>\n",
       "      <td>Venta</td>\n",
       "    </tr>\n",
       "  </tbody>\n",
       "</table>\n",
       "</div>"
      ],
      "text/plain": [
       "       start_date    end_date  created_on      lat      lon         l1  \\\n",
       "42577  2019-12-08  2019-12-17  2019-12-08 -34.5942 -58.4038  Argentina   \n",
       "\n",
       "                    l2        l3  rooms  bedrooms  bathrooms  surface_total  \\\n",
       "42577  Capital Federal  Recoleta   21.0       1.0        1.0           53.0   \n",
       "\n",
       "       surface_covered     price currency  \\\n",
       "42577             53.0  135000.0      USD   \n",
       "\n",
       "                                        title  \\\n",
       "42577  Depto 2 ambientes Excelente Ubicación!   \n",
       "\n",
       "                                             description property_type  \\\n",
       "42577  Corredor Responsable: Veronica Grela Reina - C...  Departamento   \n",
       "\n",
       "      operation_type  \n",
       "42577          Venta  "
      ]
     },
     "execution_count": 19,
     "metadata": {},
     "output_type": "execute_result"
    }
   ],
   "source": [
    "data[data['rooms']==21]"
   ]
  },
  {
   "cell_type": "code",
   "execution_count": 20,
   "metadata": {},
   "outputs": [
    {
     "data": {
      "text/html": [
       "<div>\n",
       "<style scoped>\n",
       "    .dataframe tbody tr th:only-of-type {\n",
       "        vertical-align: middle;\n",
       "    }\n",
       "\n",
       "    .dataframe tbody tr th {\n",
       "        vertical-align: top;\n",
       "    }\n",
       "\n",
       "    .dataframe thead th {\n",
       "        text-align: right;\n",
       "    }\n",
       "</style>\n",
       "<table border=\"1\" class=\"dataframe\">\n",
       "  <thead>\n",
       "    <tr style=\"text-align: right;\">\n",
       "      <th></th>\n",
       "      <th>start_date</th>\n",
       "      <th>end_date</th>\n",
       "      <th>created_on</th>\n",
       "      <th>lat</th>\n",
       "      <th>lon</th>\n",
       "      <th>l1</th>\n",
       "      <th>l2</th>\n",
       "      <th>l3</th>\n",
       "      <th>rooms</th>\n",
       "      <th>bedrooms</th>\n",
       "      <th>bathrooms</th>\n",
       "      <th>surface_total</th>\n",
       "      <th>surface_covered</th>\n",
       "      <th>price</th>\n",
       "      <th>currency</th>\n",
       "      <th>title</th>\n",
       "      <th>description</th>\n",
       "      <th>property_type</th>\n",
       "      <th>operation_type</th>\n",
       "    </tr>\n",
       "  </thead>\n",
       "  <tbody>\n",
       "    <tr>\n",
       "      <th>56981</th>\n",
       "      <td>2019-07-03</td>\n",
       "      <td>2019-09-14</td>\n",
       "      <td>2019-07-03</td>\n",
       "      <td>-34.606890</td>\n",
       "      <td>-58.443673</td>\n",
       "      <td>Argentina</td>\n",
       "      <td>Capital Federal</td>\n",
       "      <td>Caballito</td>\n",
       "      <td>2.0</td>\n",
       "      <td>11.0</td>\n",
       "      <td>1.0</td>\n",
       "      <td>58.0</td>\n",
       "      <td>58.0</td>\n",
       "      <td>145000.0</td>\n",
       "      <td>USD</td>\n",
       "      <td>Exc 2 amb con balcón 60M2 totales</td>\n",
       "      <td>Corredor Responsable: Marcelo Trujillo - CUCIC...</td>\n",
       "      <td>Departamento</td>\n",
       "      <td>Venta</td>\n",
       "    </tr>\n",
       "    <tr>\n",
       "      <th>141964</th>\n",
       "      <td>2019-07-31</td>\n",
       "      <td>2020-01-17</td>\n",
       "      <td>2019-07-31</td>\n",
       "      <td>-34.603431</td>\n",
       "      <td>-58.385080</td>\n",
       "      <td>Argentina</td>\n",
       "      <td>Capital Federal</td>\n",
       "      <td>Centro / Microcentro</td>\n",
       "      <td>12.0</td>\n",
       "      <td>11.0</td>\n",
       "      <td>2.0</td>\n",
       "      <td>200.0</td>\n",
       "      <td>200.0</td>\n",
       "      <td>230000.0</td>\n",
       "      <td>USD</td>\n",
       "      <td>SEMPISO HOTEL FAMILIAR OFICINA EN VENTA CENTRO...</td>\n",
       "      <td>Sempiso Sup Tot Aprox 200m2 ; 11 Habitaciones ...</td>\n",
       "      <td>Departamento</td>\n",
       "      <td>Venta</td>\n",
       "    </tr>\n",
       "  </tbody>\n",
       "</table>\n",
       "</div>"
      ],
      "text/plain": [
       "        start_date    end_date  created_on        lat        lon         l1  \\\n",
       "56981   2019-07-03  2019-09-14  2019-07-03 -34.606890 -58.443673  Argentina   \n",
       "141964  2019-07-31  2020-01-17  2019-07-31 -34.603431 -58.385080  Argentina   \n",
       "\n",
       "                     l2                    l3  rooms  bedrooms  bathrooms  \\\n",
       "56981   Capital Federal             Caballito    2.0      11.0        1.0   \n",
       "141964  Capital Federal  Centro / Microcentro   12.0      11.0        2.0   \n",
       "\n",
       "        surface_total  surface_covered     price currency  \\\n",
       "56981            58.0             58.0  145000.0      USD   \n",
       "141964          200.0            200.0  230000.0      USD   \n",
       "\n",
       "                                                    title  \\\n",
       "56981                   Exc 2 amb con balcón 60M2 totales   \n",
       "141964  SEMPISO HOTEL FAMILIAR OFICINA EN VENTA CENTRO...   \n",
       "\n",
       "                                              description property_type  \\\n",
       "56981   Corredor Responsable: Marcelo Trujillo - CUCIC...  Departamento   \n",
       "141964  Sempiso Sup Tot Aprox 200m2 ; 11 Habitaciones ...  Departamento   \n",
       "\n",
       "       operation_type  \n",
       "56981           Venta  \n",
       "141964          Venta  "
      ]
     },
     "execution_count": 20,
     "metadata": {},
     "output_type": "execute_result"
    }
   ],
   "source": [
    "data[data['bedrooms']==11]"
   ]
  },
  {
   "cell_type": "markdown",
   "metadata": {},
   "source": [
    "Es posible que hubiera un error de digitación, ya que es inconsistente que exista una cantidad de habitaciones igual a 21 con una superficie total de 53 $m^2$. Es por esto que se procede a eliminar esta instancia.\n",
    "Eso mismo ocurre con la instancia 56981 para un número de alcobas igual a 11 con una superficie de 58 $m^2$"
   ]
  },
  {
   "cell_type": "code",
   "execution_count": 21,
   "metadata": {},
   "outputs": [],
   "source": [
    "data.drop(index = 56981, inplace=True)"
   ]
  },
  {
   "cell_type": "code",
   "execution_count": 22,
   "metadata": {},
   "outputs": [],
   "source": [
    "data.drop(data[data['rooms']==21].index, inplace=True)\n"
   ]
  },
  {
   "cell_type": "code",
   "execution_count": 23,
   "metadata": {},
   "outputs": [
    {
     "data": {
      "text/html": [
       "<div>\n",
       "<style scoped>\n",
       "    .dataframe tbody tr th:only-of-type {\n",
       "        vertical-align: middle;\n",
       "    }\n",
       "\n",
       "    .dataframe tbody tr th {\n",
       "        vertical-align: top;\n",
       "    }\n",
       "\n",
       "    .dataframe thead th {\n",
       "        text-align: right;\n",
       "    }\n",
       "</style>\n",
       "<table border=\"1\" class=\"dataframe\">\n",
       "  <thead>\n",
       "    <tr style=\"text-align: right;\">\n",
       "      <th></th>\n",
       "      <th>start_date</th>\n",
       "      <th>end_date</th>\n",
       "      <th>created_on</th>\n",
       "      <th>lat</th>\n",
       "      <th>lon</th>\n",
       "      <th>l1</th>\n",
       "      <th>l2</th>\n",
       "      <th>l3</th>\n",
       "      <th>rooms</th>\n",
       "      <th>bedrooms</th>\n",
       "      <th>bathrooms</th>\n",
       "      <th>surface_total</th>\n",
       "      <th>surface_covered</th>\n",
       "      <th>price</th>\n",
       "      <th>currency</th>\n",
       "      <th>title</th>\n",
       "      <th>description</th>\n",
       "      <th>property_type</th>\n",
       "      <th>operation_type</th>\n",
       "    </tr>\n",
       "  </thead>\n",
       "  <tbody>\n",
       "    <tr>\n",
       "      <th>8843</th>\n",
       "      <td>2019-11-03</td>\n",
       "      <td>2019-12-23</td>\n",
       "      <td>2019-11-03</td>\n",
       "      <td>-34.630209</td>\n",
       "      <td>-58.364202</td>\n",
       "      <td>Argentina</td>\n",
       "      <td>Capital Federal</td>\n",
       "      <td>Boca</td>\n",
       "      <td>2.0</td>\n",
       "      <td>15.0</td>\n",
       "      <td>1.0</td>\n",
       "      <td>47.0</td>\n",
       "      <td>47.0</td>\n",
       "      <td>100000.0</td>\n",
       "      <td>USD</td>\n",
       "      <td>EXCELENTE  2  AMBIENTES CON BALCON AL FRENTE</td>\n",
       "      <td>2  AMB. AL FRENTE  CON CÓMODO  BALCÓN  VISTA  ...</td>\n",
       "      <td>Departamento</td>\n",
       "      <td>Venta</td>\n",
       "    </tr>\n",
       "  </tbody>\n",
       "</table>\n",
       "</div>"
      ],
      "text/plain": [
       "      start_date    end_date  created_on        lat        lon         l1  \\\n",
       "8843  2019-11-03  2019-12-23  2019-11-03 -34.630209 -58.364202  Argentina   \n",
       "\n",
       "                   l2    l3  rooms  bedrooms  bathrooms  surface_total  \\\n",
       "8843  Capital Federal  Boca    2.0      15.0        1.0           47.0   \n",
       "\n",
       "      surface_covered     price currency  \\\n",
       "8843             47.0  100000.0      USD   \n",
       "\n",
       "                                              title  \\\n",
       "8843  EXCELENTE  2  AMBIENTES CON BALCON AL FRENTE    \n",
       "\n",
       "                                            description property_type  \\\n",
       "8843  2  AMB. AL FRENTE  CON CÓMODO  BALCÓN  VISTA  ...  Departamento   \n",
       "\n",
       "     operation_type  \n",
       "8843          Venta  "
      ]
     },
     "execution_count": 23,
     "metadata": {},
     "output_type": "execute_result"
    }
   ],
   "source": [
    "data[data['bedrooms']==15]"
   ]
  },
  {
   "cell_type": "code",
   "execution_count": 24,
   "metadata": {},
   "outputs": [],
   "source": [
    "data.drop(data[data['bedrooms']==15].index, inplace=True)"
   ]
  },
  {
   "cell_type": "code",
   "execution_count": 25,
   "metadata": {},
   "outputs": [
    {
     "data": {
      "text/html": [
       "<div>\n",
       "<style scoped>\n",
       "    .dataframe tbody tr th:only-of-type {\n",
       "        vertical-align: middle;\n",
       "    }\n",
       "\n",
       "    .dataframe tbody tr th {\n",
       "        vertical-align: top;\n",
       "    }\n",
       "\n",
       "    .dataframe thead th {\n",
       "        text-align: right;\n",
       "    }\n",
       "</style>\n",
       "<table border=\"1\" class=\"dataframe\">\n",
       "  <thead>\n",
       "    <tr style=\"text-align: right;\">\n",
       "      <th></th>\n",
       "      <th>start_date</th>\n",
       "      <th>end_date</th>\n",
       "      <th>created_on</th>\n",
       "      <th>lat</th>\n",
       "      <th>lon</th>\n",
       "      <th>l1</th>\n",
       "      <th>l2</th>\n",
       "      <th>l3</th>\n",
       "      <th>rooms</th>\n",
       "      <th>bedrooms</th>\n",
       "      <th>bathrooms</th>\n",
       "      <th>surface_total</th>\n",
       "      <th>surface_covered</th>\n",
       "      <th>price</th>\n",
       "      <th>currency</th>\n",
       "      <th>title</th>\n",
       "      <th>description</th>\n",
       "      <th>property_type</th>\n",
       "      <th>operation_type</th>\n",
       "    </tr>\n",
       "  </thead>\n",
       "  <tbody>\n",
       "    <tr>\n",
       "      <th>45177</th>\n",
       "      <td>2019-02-17</td>\n",
       "      <td>2019-03-27</td>\n",
       "      <td>2019-02-17</td>\n",
       "      <td>NaN</td>\n",
       "      <td>NaN</td>\n",
       "      <td>Argentina</td>\n",
       "      <td>Capital Federal</td>\n",
       "      <td>Belgrano</td>\n",
       "      <td>2.0</td>\n",
       "      <td>12.0</td>\n",
       "      <td>1.0</td>\n",
       "      <td>56.0</td>\n",
       "      <td>56.0</td>\n",
       "      <td>171000.0</td>\n",
       "      <td>USD</td>\n",
       "      <td>¡ULTIMOS DEPARTAMENTOS! FIDEICOMISO MONTAÑESES...</td>\n",
       "      <td>El precio corresponde a una unidad de 2 ambien...</td>\n",
       "      <td>Departamento</td>\n",
       "      <td>Venta</td>\n",
       "    </tr>\n",
       "  </tbody>\n",
       "</table>\n",
       "</div>"
      ],
      "text/plain": [
       "       start_date    end_date  created_on  lat  lon         l1  \\\n",
       "45177  2019-02-17  2019-03-27  2019-02-17  NaN  NaN  Argentina   \n",
       "\n",
       "                    l2        l3  rooms  bedrooms  bathrooms  surface_total  \\\n",
       "45177  Capital Federal  Belgrano    2.0      12.0        1.0           56.0   \n",
       "\n",
       "       surface_covered     price currency  \\\n",
       "45177             56.0  171000.0      USD   \n",
       "\n",
       "                                                   title  \\\n",
       "45177  ¡ULTIMOS DEPARTAMENTOS! FIDEICOMISO MONTAÑESES...   \n",
       "\n",
       "                                             description property_type  \\\n",
       "45177  El precio corresponde a una unidad de 2 ambien...  Departamento   \n",
       "\n",
       "      operation_type  \n",
       "45177          Venta  "
      ]
     },
     "execution_count": 25,
     "metadata": {},
     "output_type": "execute_result"
    }
   ],
   "source": [
    "data[data['bedrooms']==12]"
   ]
  },
  {
   "cell_type": "code",
   "execution_count": 26,
   "metadata": {},
   "outputs": [],
   "source": [
    "data.drop(data[data['bedrooms']==12].index, inplace=True)"
   ]
  },
  {
   "cell_type": "code",
   "execution_count": 27,
   "metadata": {},
   "outputs": [
    {
     "data": {
      "image/png": "[encoded data removed]",
      "text/plain": [
       "<Figure size 864x720 with 1 Axes>"
      ]
     },
     "metadata": {
      "needs_background": "light"
     },
     "output_type": "display_data"
    }
   ],
   "source": [
    "plt.figure(figsize = (12,10))\n",
    "\n",
    "df_1 = data[['rooms', 'bedrooms']]\n",
    "\n",
    "ax = sns.boxplot(data=df_1, orient=\"h\", palette=\"Set2\")"
   ]
  },
  {
   "cell_type": "code",
   "execution_count": 28,
   "metadata": {},
   "outputs": [
    {
     "data": {
      "text/plain": [
       "<AxesSubplot:xlabel='surface_total'>"
      ]
     },
     "execution_count": 28,
     "metadata": {},
     "output_type": "execute_result"
    },
    {
     "data": {
      "image/png": "[encoded data removed]",
      "text/plain": [
       "<Figure size 864x720 with 1 Axes>"
      ]
     },
     "metadata": {
      "needs_background": "light"
     },
     "output_type": "display_data"
    }
   ],
   "source": [
    "plt.figure(figsize=(12,10))\n",
    "sns.boxplot(x = 'surface_total', data = data)"
   ]
  },
  {
   "cell_type": "code",
   "execution_count": 29,
   "metadata": {},
   "outputs": [
    {
     "data": {
      "text/plain": [
       "<AxesSubplot:xlabel='bathrooms'>"
      ]
     },
     "execution_count": 29,
     "metadata": {},
     "output_type": "execute_result"
    },
    {
     "data": {
      "image/png": "[encoded data removed]",
      "text/plain": [
       "<Figure size 864x720 with 1 Axes>"
      ]
     },
     "metadata": {
      "needs_background": "light"
     },
     "output_type": "display_data"
    }
   ],
   "source": [
    "plt.figure(figsize=(12,10))\n",
    "sns.boxplot(x = 'bathrooms', data = data)"
   ]
  },
  {
   "cell_type": "code",
   "execution_count": 30,
   "metadata": {},
   "outputs": [
    {
     "data": {
      "text/html": [
       "<div>\n",
       "<style scoped>\n",
       "    .dataframe tbody tr th:only-of-type {\n",
       "        vertical-align: middle;\n",
       "    }\n",
       "\n",
       "    .dataframe tbody tr th {\n",
       "        vertical-align: top;\n",
       "    }\n",
       "\n",
       "    .dataframe thead th {\n",
       "        text-align: right;\n",
       "    }\n",
       "</style>\n",
       "<table border=\"1\" class=\"dataframe\">\n",
       "  <thead>\n",
       "    <tr style=\"text-align: right;\">\n",
       "      <th></th>\n",
       "      <th>start_date</th>\n",
       "      <th>end_date</th>\n",
       "      <th>created_on</th>\n",
       "      <th>lat</th>\n",
       "      <th>lon</th>\n",
       "      <th>l1</th>\n",
       "      <th>l2</th>\n",
       "      <th>l3</th>\n",
       "      <th>rooms</th>\n",
       "      <th>bedrooms</th>\n",
       "      <th>bathrooms</th>\n",
       "      <th>surface_total</th>\n",
       "      <th>surface_covered</th>\n",
       "      <th>price</th>\n",
       "      <th>currency</th>\n",
       "      <th>title</th>\n",
       "      <th>description</th>\n",
       "      <th>property_type</th>\n",
       "      <th>operation_type</th>\n",
       "    </tr>\n",
       "  </thead>\n",
       "  <tbody>\n",
       "    <tr>\n",
       "      <th>35960</th>\n",
       "      <td>2019-01-11</td>\n",
       "      <td>2019-02-04</td>\n",
       "      <td>2019-01-11</td>\n",
       "      <td>-34.576782</td>\n",
       "      <td>-58.423782</td>\n",
       "      <td>Argentina</td>\n",
       "      <td>Capital Federal</td>\n",
       "      <td>Palermo</td>\n",
       "      <td>2.0</td>\n",
       "      <td>1.0</td>\n",
       "      <td>14.0</td>\n",
       "      <td>50.0</td>\n",
       "      <td>50.0</td>\n",
       "      <td>225000.0</td>\n",
       "      <td>USD</td>\n",
       "      <td>JUNCAL 4600.PALERMO NUEVO.VENTA 2 AMBIENTES CO...</td>\n",
       "      <td>EXCELENTE SEMIPISO 2 AMBIENTES EN PALERMO NUEV...</td>\n",
       "      <td>Departamento</td>\n",
       "      <td>Venta</td>\n",
       "    </tr>\n",
       "    <tr>\n",
       "      <th>132709</th>\n",
       "      <td>2019-02-13</td>\n",
       "      <td>2019-06-23</td>\n",
       "      <td>2019-02-13</td>\n",
       "      <td>NaN</td>\n",
       "      <td>NaN</td>\n",
       "      <td>Argentina</td>\n",
       "      <td>Capital Federal</td>\n",
       "      <td>Recoleta</td>\n",
       "      <td>2.0</td>\n",
       "      <td>1.0</td>\n",
       "      <td>14.0</td>\n",
       "      <td>45.0</td>\n",
       "      <td>45.0</td>\n",
       "      <td>159000.0</td>\n",
       "      <td>USD</td>\n",
       "      <td>SUIPACHA 1700.VENTA 2 AMBIENTES</td>\n",
       "      <td>EXCELENTE 2 AMBIENTES AL CONTRAFRENTE TOTALMEN...</td>\n",
       "      <td>Departamento</td>\n",
       "      <td>Venta</td>\n",
       "    </tr>\n",
       "    <tr>\n",
       "      <th>136930</th>\n",
       "      <td>2019-07-31</td>\n",
       "      <td>2020-01-17</td>\n",
       "      <td>2019-07-31</td>\n",
       "      <td>NaN</td>\n",
       "      <td>NaN</td>\n",
       "      <td>Argentina</td>\n",
       "      <td>Capital Federal</td>\n",
       "      <td>Recoleta</td>\n",
       "      <td>2.0</td>\n",
       "      <td>1.0</td>\n",
       "      <td>14.0</td>\n",
       "      <td>45.0</td>\n",
       "      <td>45.0</td>\n",
       "      <td>159000.0</td>\n",
       "      <td>USD</td>\n",
       "      <td>SUIPACHA 1700.VENTA 2 AMBIENTES</td>\n",
       "      <td>EXCELENTE 2 AMBIENTES AL CONTRAFRENTE TOTALMEN...</td>\n",
       "      <td>Departamento</td>\n",
       "      <td>Venta</td>\n",
       "    </tr>\n",
       "  </tbody>\n",
       "</table>\n",
       "</div>"
      ],
      "text/plain": [
       "        start_date    end_date  created_on        lat        lon         l1  \\\n",
       "35960   2019-01-11  2019-02-04  2019-01-11 -34.576782 -58.423782  Argentina   \n",
       "132709  2019-02-13  2019-06-23  2019-02-13        NaN        NaN  Argentina   \n",
       "136930  2019-07-31  2020-01-17  2019-07-31        NaN        NaN  Argentina   \n",
       "\n",
       "                     l2        l3  rooms  bedrooms  bathrooms  surface_total  \\\n",
       "35960   Capital Federal   Palermo    2.0       1.0       14.0           50.0   \n",
       "132709  Capital Federal  Recoleta    2.0       1.0       14.0           45.0   \n",
       "136930  Capital Federal  Recoleta    2.0       1.0       14.0           45.0   \n",
       "\n",
       "        surface_covered     price currency  \\\n",
       "35960              50.0  225000.0      USD   \n",
       "132709             45.0  159000.0      USD   \n",
       "136930             45.0  159000.0      USD   \n",
       "\n",
       "                                                    title  \\\n",
       "35960   JUNCAL 4600.PALERMO NUEVO.VENTA 2 AMBIENTES CO...   \n",
       "132709                    SUIPACHA 1700.VENTA 2 AMBIENTES   \n",
       "136930                    SUIPACHA 1700.VENTA 2 AMBIENTES   \n",
       "\n",
       "                                              description property_type  \\\n",
       "35960   EXCELENTE SEMIPISO 2 AMBIENTES EN PALERMO NUEV...  Departamento   \n",
       "132709  EXCELENTE 2 AMBIENTES AL CONTRAFRENTE TOTALMEN...  Departamento   \n",
       "136930  EXCELENTE 2 AMBIENTES AL CONTRAFRENTE TOTALMEN...  Departamento   \n",
       "\n",
       "       operation_type  \n",
       "35960           Venta  \n",
       "132709          Venta  \n",
       "136930          Venta  "
      ]
     },
     "execution_count": 30,
     "metadata": {},
     "output_type": "execute_result"
    }
   ],
   "source": [
    "data[data['bathrooms']==14]"
   ]
  },
  {
   "cell_type": "code",
   "execution_count": 31,
   "metadata": {},
   "outputs": [
    {
     "data": {
      "text/html": [
       "<div>\n",
       "<style scoped>\n",
       "    .dataframe tbody tr th:only-of-type {\n",
       "        vertical-align: middle;\n",
       "    }\n",
       "\n",
       "    .dataframe tbody tr th {\n",
       "        vertical-align: top;\n",
       "    }\n",
       "\n",
       "    .dataframe thead th {\n",
       "        text-align: right;\n",
       "    }\n",
       "</style>\n",
       "<table border=\"1\" class=\"dataframe\">\n",
       "  <thead>\n",
       "    <tr style=\"text-align: right;\">\n",
       "      <th></th>\n",
       "      <th>start_date</th>\n",
       "      <th>end_date</th>\n",
       "      <th>created_on</th>\n",
       "      <th>lat</th>\n",
       "      <th>lon</th>\n",
       "      <th>l1</th>\n",
       "      <th>l2</th>\n",
       "      <th>l3</th>\n",
       "      <th>rooms</th>\n",
       "      <th>bedrooms</th>\n",
       "      <th>bathrooms</th>\n",
       "      <th>surface_total</th>\n",
       "      <th>surface_covered</th>\n",
       "      <th>price</th>\n",
       "      <th>currency</th>\n",
       "      <th>title</th>\n",
       "      <th>description</th>\n",
       "      <th>property_type</th>\n",
       "      <th>operation_type</th>\n",
       "    </tr>\n",
       "  </thead>\n",
       "  <tbody>\n",
       "    <tr>\n",
       "      <th>53274</th>\n",
       "      <td>2019-05-03</td>\n",
       "      <td>2019-06-23</td>\n",
       "      <td>2019-05-03</td>\n",
       "      <td>-34.568806</td>\n",
       "      <td>-58.44981</td>\n",
       "      <td>Argentina</td>\n",
       "      <td>Capital Federal</td>\n",
       "      <td>Belgrano</td>\n",
       "      <td>1.0</td>\n",
       "      <td>1.0</td>\n",
       "      <td>12.0</td>\n",
       "      <td>38.0</td>\n",
       "      <td>38.0</td>\n",
       "      <td>140000.0</td>\n",
       "      <td>USD</td>\n",
       "      <td>Belgrano - Edificio Live Zabala - 1 ambiente, ...</td>\n",
       "      <td>Entrega JUNIO 2019. NO APTO CRÉDITO A estrenar...</td>\n",
       "      <td>Departamento</td>\n",
       "      <td>Venta</td>\n",
       "    </tr>\n",
       "  </tbody>\n",
       "</table>\n",
       "</div>"
      ],
      "text/plain": [
       "       start_date    end_date  created_on        lat       lon         l1  \\\n",
       "53274  2019-05-03  2019-06-23  2019-05-03 -34.568806 -58.44981  Argentina   \n",
       "\n",
       "                    l2        l3  rooms  bedrooms  bathrooms  surface_total  \\\n",
       "53274  Capital Federal  Belgrano    1.0       1.0       12.0           38.0   \n",
       "\n",
       "       surface_covered     price currency  \\\n",
       "53274             38.0  140000.0      USD   \n",
       "\n",
       "                                                   title  \\\n",
       "53274  Belgrano - Edificio Live Zabala - 1 ambiente, ...   \n",
       "\n",
       "                                             description property_type  \\\n",
       "53274  Entrega JUNIO 2019. NO APTO CRÉDITO A estrenar...  Departamento   \n",
       "\n",
       "      operation_type  \n",
       "53274          Venta  "
      ]
     },
     "execution_count": 31,
     "metadata": {},
     "output_type": "execute_result"
    }
   ],
   "source": [
    "data[data['bathrooms']==12]"
   ]
  },
  {
   "cell_type": "code",
   "execution_count": 32,
   "metadata": {},
   "outputs": [
    {
     "data": {
      "text/html": [
       "<div>\n",
       "<style scoped>\n",
       "    .dataframe tbody tr th:only-of-type {\n",
       "        vertical-align: middle;\n",
       "    }\n",
       "\n",
       "    .dataframe tbody tr th {\n",
       "        vertical-align: top;\n",
       "    }\n",
       "\n",
       "    .dataframe thead th {\n",
       "        text-align: right;\n",
       "    }\n",
       "</style>\n",
       "<table border=\"1\" class=\"dataframe\">\n",
       "  <thead>\n",
       "    <tr style=\"text-align: right;\">\n",
       "      <th></th>\n",
       "      <th>start_date</th>\n",
       "      <th>end_date</th>\n",
       "      <th>created_on</th>\n",
       "      <th>lat</th>\n",
       "      <th>lon</th>\n",
       "      <th>l1</th>\n",
       "      <th>l2</th>\n",
       "      <th>l3</th>\n",
       "      <th>rooms</th>\n",
       "      <th>bedrooms</th>\n",
       "      <th>bathrooms</th>\n",
       "      <th>surface_total</th>\n",
       "      <th>surface_covered</th>\n",
       "      <th>price</th>\n",
       "      <th>currency</th>\n",
       "      <th>title</th>\n",
       "      <th>description</th>\n",
       "      <th>property_type</th>\n",
       "      <th>operation_type</th>\n",
       "    </tr>\n",
       "  </thead>\n",
       "  <tbody>\n",
       "    <tr>\n",
       "      <th>62342</th>\n",
       "      <td>2019-02-14</td>\n",
       "      <td>2019-07-10</td>\n",
       "      <td>2019-02-14</td>\n",
       "      <td>-34.594600</td>\n",
       "      <td>-58.432658</td>\n",
       "      <td>Argentina</td>\n",
       "      <td>Capital Federal</td>\n",
       "      <td>Villa Crespo</td>\n",
       "      <td>3.0</td>\n",
       "      <td>2.0</td>\n",
       "      <td>11.0</td>\n",
       "      <td>47.0</td>\n",
       "      <td>47.0</td>\n",
       "      <td>105000.0</td>\n",
       "      <td>USD</td>\n",
       "      <td>DEPARTAMENTO EN VENTA</td>\n",
       "      <td>Xintel (GOP-GOP-8133) Venta de Departamento 3 ...</td>\n",
       "      <td>Departamento</td>\n",
       "      <td>Venta</td>\n",
       "    </tr>\n",
       "    <tr>\n",
       "      <th>73948</th>\n",
       "      <td>2020-01-21</td>\n",
       "      <td>2020-02-26</td>\n",
       "      <td>2020-01-21</td>\n",
       "      <td>-34.567614</td>\n",
       "      <td>-58.434551</td>\n",
       "      <td>Argentina</td>\n",
       "      <td>Capital Federal</td>\n",
       "      <td>Palermo</td>\n",
       "      <td>2.0</td>\n",
       "      <td>1.0</td>\n",
       "      <td>11.0</td>\n",
       "      <td>44.0</td>\n",
       "      <td>44.0</td>\n",
       "      <td>149000.0</td>\n",
       "      <td>USD</td>\n",
       "      <td>Soldado de la Independencia al 700</td>\n",
       "      <td>VENTA- 2 AMBIENTES- BALCÓN ATERRAZADO- LAS CAÑ...</td>\n",
       "      <td>Departamento</td>\n",
       "      <td>Venta</td>\n",
       "    </tr>\n",
       "    <tr>\n",
       "      <th>128033</th>\n",
       "      <td>2019-06-29</td>\n",
       "      <td>2019-09-14</td>\n",
       "      <td>2019-06-29</td>\n",
       "      <td>-34.609667</td>\n",
       "      <td>-58.424507</td>\n",
       "      <td>Argentina</td>\n",
       "      <td>Capital Federal</td>\n",
       "      <td>Almagro</td>\n",
       "      <td>3.0</td>\n",
       "      <td>2.0</td>\n",
       "      <td>11.0</td>\n",
       "      <td>100.0</td>\n",
       "      <td>100.0</td>\n",
       "      <td>199000.0</td>\n",
       "      <td>USD</td>\n",
       "      <td>PH 3 ambientes c/Patio y Terraza 100 M2 - Almagro</td>\n",
       "      <td>Corredor Responsable: Uno Bienes Raices SRL - ...</td>\n",
       "      <td>PH</td>\n",
       "      <td>Venta</td>\n",
       "    </tr>\n",
       "  </tbody>\n",
       "</table>\n",
       "</div>"
      ],
      "text/plain": [
       "        start_date    end_date  created_on        lat        lon         l1  \\\n",
       "62342   2019-02-14  2019-07-10  2019-02-14 -34.594600 -58.432658  Argentina   \n",
       "73948   2020-01-21  2020-02-26  2020-01-21 -34.567614 -58.434551  Argentina   \n",
       "128033  2019-06-29  2019-09-14  2019-06-29 -34.609667 -58.424507  Argentina   \n",
       "\n",
       "                     l2            l3  rooms  bedrooms  bathrooms  \\\n",
       "62342   Capital Federal  Villa Crespo    3.0       2.0       11.0   \n",
       "73948   Capital Federal       Palermo    2.0       1.0       11.0   \n",
       "128033  Capital Federal       Almagro    3.0       2.0       11.0   \n",
       "\n",
       "        surface_total  surface_covered     price currency  \\\n",
       "62342            47.0             47.0  105000.0      USD   \n",
       "73948            44.0             44.0  149000.0      USD   \n",
       "128033          100.0            100.0  199000.0      USD   \n",
       "\n",
       "                                                    title  \\\n",
       "62342                               DEPARTAMENTO EN VENTA   \n",
       "73948                  Soldado de la Independencia al 700   \n",
       "128033  PH 3 ambientes c/Patio y Terraza 100 M2 - Almagro   \n",
       "\n",
       "                                              description property_type  \\\n",
       "62342   Xintel (GOP-GOP-8133) Venta de Departamento 3 ...  Departamento   \n",
       "73948   VENTA- 2 AMBIENTES- BALCÓN ATERRAZADO- LAS CAÑ...  Departamento   \n",
       "128033  Corredor Responsable: Uno Bienes Raices SRL - ...            PH   \n",
       "\n",
       "       operation_type  \n",
       "62342           Venta  \n",
       "73948           Venta  \n",
       "128033          Venta  "
      ]
     },
     "execution_count": 32,
     "metadata": {},
     "output_type": "execute_result"
    }
   ],
   "source": [
    "data[data['bathrooms']==11]"
   ]
  },
  {
   "cell_type": "code",
   "execution_count": 33,
   "metadata": {},
   "outputs": [
    {
     "data": {
      "text/html": [
       "<div>\n",
       "<style scoped>\n",
       "    .dataframe tbody tr th:only-of-type {\n",
       "        vertical-align: middle;\n",
       "    }\n",
       "\n",
       "    .dataframe tbody tr th {\n",
       "        vertical-align: top;\n",
       "    }\n",
       "\n",
       "    .dataframe thead th {\n",
       "        text-align: right;\n",
       "    }\n",
       "</style>\n",
       "<table border=\"1\" class=\"dataframe\">\n",
       "  <thead>\n",
       "    <tr style=\"text-align: right;\">\n",
       "      <th></th>\n",
       "      <th>start_date</th>\n",
       "      <th>end_date</th>\n",
       "      <th>created_on</th>\n",
       "      <th>lat</th>\n",
       "      <th>lon</th>\n",
       "      <th>l1</th>\n",
       "      <th>l2</th>\n",
       "      <th>l3</th>\n",
       "      <th>rooms</th>\n",
       "      <th>bedrooms</th>\n",
       "      <th>bathrooms</th>\n",
       "      <th>surface_total</th>\n",
       "      <th>surface_covered</th>\n",
       "      <th>price</th>\n",
       "      <th>currency</th>\n",
       "      <th>title</th>\n",
       "      <th>description</th>\n",
       "      <th>property_type</th>\n",
       "      <th>operation_type</th>\n",
       "    </tr>\n",
       "  </thead>\n",
       "  <tbody>\n",
       "    <tr>\n",
       "      <th>19025</th>\n",
       "      <td>2019-09-23</td>\n",
       "      <td>2019-11-04</td>\n",
       "      <td>2019-09-23</td>\n",
       "      <td>-34.615226</td>\n",
       "      <td>-58.377551</td>\n",
       "      <td>Argentina</td>\n",
       "      <td>Capital Federal</td>\n",
       "      <td>Monserrat</td>\n",
       "      <td>2.0</td>\n",
       "      <td>1.0</td>\n",
       "      <td>10.0</td>\n",
       "      <td>33.0</td>\n",
       "      <td>33.0</td>\n",
       "      <td>90000.0</td>\n",
       "      <td>USD</td>\n",
       "      <td>VENTA DEPARTAMENTO DOS AMBIENTES MONTSERRAT</td>\n",
       "      <td>Corredor Responsable: Uno Bienes Raices SRL - ...</td>\n",
       "      <td>Departamento</td>\n",
       "      <td>Venta</td>\n",
       "    </tr>\n",
       "    <tr>\n",
       "      <th>19760</th>\n",
       "      <td>2019-11-08</td>\n",
       "      <td>2019-11-12</td>\n",
       "      <td>2019-11-08</td>\n",
       "      <td>-34.615226</td>\n",
       "      <td>-58.377551</td>\n",
       "      <td>Argentina</td>\n",
       "      <td>Capital Federal</td>\n",
       "      <td>Monserrat</td>\n",
       "      <td>2.0</td>\n",
       "      <td>1.0</td>\n",
       "      <td>10.0</td>\n",
       "      <td>33.0</td>\n",
       "      <td>33.0</td>\n",
       "      <td>85000.0</td>\n",
       "      <td>USD</td>\n",
       "      <td>VENTA DEPARTAMENTO DOS AMBIENTES MONTSERRAT</td>\n",
       "      <td>Corredor Responsable: Uno Bienes Raices SRL - ...</td>\n",
       "      <td>Departamento</td>\n",
       "      <td>Venta</td>\n",
       "    </tr>\n",
       "    <tr>\n",
       "      <th>58733</th>\n",
       "      <td>2019-11-13</td>\n",
       "      <td>2019-12-02</td>\n",
       "      <td>2019-11-13</td>\n",
       "      <td>-34.615226</td>\n",
       "      <td>-58.377551</td>\n",
       "      <td>Argentina</td>\n",
       "      <td>Capital Federal</td>\n",
       "      <td>Monserrat</td>\n",
       "      <td>2.0</td>\n",
       "      <td>1.0</td>\n",
       "      <td>10.0</td>\n",
       "      <td>33.0</td>\n",
       "      <td>33.0</td>\n",
       "      <td>85000.0</td>\n",
       "      <td>USD</td>\n",
       "      <td>RETASADO VENTA DEPARTAMENTO 2 AMBIENTES MONTSE...</td>\n",
       "      <td>Corredor Responsable: Uno Bienes Raices SRL - ...</td>\n",
       "      <td>Departamento</td>\n",
       "      <td>Venta</td>\n",
       "    </tr>\n",
       "    <tr>\n",
       "      <th>131845</th>\n",
       "      <td>2019-10-08</td>\n",
       "      <td>9999-12-31</td>\n",
       "      <td>2019-10-08</td>\n",
       "      <td>-34.682861</td>\n",
       "      <td>-58.466026</td>\n",
       "      <td>Argentina</td>\n",
       "      <td>Capital Federal</td>\n",
       "      <td>Villa Lugano</td>\n",
       "      <td>4.0</td>\n",
       "      <td>3.0</td>\n",
       "      <td>10.0</td>\n",
       "      <td>80.0</td>\n",
       "      <td>80.0</td>\n",
       "      <td>68000.0</td>\n",
       "      <td>USD</td>\n",
       "      <td>SE ALQUILA DPTO 4 AMB LUGANO I Y II</td>\n",
       "      <td>Se Vende Departamento 4 Ambientes en Villa Lug...</td>\n",
       "      <td>Departamento</td>\n",
       "      <td>Venta</td>\n",
       "    </tr>\n",
       "  </tbody>\n",
       "</table>\n",
       "</div>"
      ],
      "text/plain": [
       "        start_date    end_date  created_on        lat        lon         l1  \\\n",
       "19025   2019-09-23  2019-11-04  2019-09-23 -34.615226 -58.377551  Argentina   \n",
       "19760   2019-11-08  2019-11-12  2019-11-08 -34.615226 -58.377551  Argentina   \n",
       "58733   2019-11-13  2019-12-02  2019-11-13 -34.615226 -58.377551  Argentina   \n",
       "131845  2019-10-08  9999-12-31  2019-10-08 -34.682861 -58.466026  Argentina   \n",
       "\n",
       "                     l2            l3  rooms  bedrooms  bathrooms  \\\n",
       "19025   Capital Federal     Monserrat    2.0       1.0       10.0   \n",
       "19760   Capital Federal     Monserrat    2.0       1.0       10.0   \n",
       "58733   Capital Federal     Monserrat    2.0       1.0       10.0   \n",
       "131845  Capital Federal  Villa Lugano    4.0       3.0       10.0   \n",
       "\n",
       "        surface_total  surface_covered    price currency  \\\n",
       "19025            33.0             33.0  90000.0      USD   \n",
       "19760            33.0             33.0  85000.0      USD   \n",
       "58733            33.0             33.0  85000.0      USD   \n",
       "131845           80.0             80.0  68000.0      USD   \n",
       "\n",
       "                                                    title  \\\n",
       "19025         VENTA DEPARTAMENTO DOS AMBIENTES MONTSERRAT   \n",
       "19760         VENTA DEPARTAMENTO DOS AMBIENTES MONTSERRAT   \n",
       "58733   RETASADO VENTA DEPARTAMENTO 2 AMBIENTES MONTSE...   \n",
       "131845                SE ALQUILA DPTO 4 AMB LUGANO I Y II   \n",
       "\n",
       "                                              description property_type  \\\n",
       "19025   Corredor Responsable: Uno Bienes Raices SRL - ...  Departamento   \n",
       "19760   Corredor Responsable: Uno Bienes Raices SRL - ...  Departamento   \n",
       "58733   Corredor Responsable: Uno Bienes Raices SRL - ...  Departamento   \n",
       "131845  Se Vende Departamento 4 Ambientes en Villa Lug...  Departamento   \n",
       "\n",
       "       operation_type  \n",
       "19025           Venta  \n",
       "19760           Venta  \n",
       "58733           Venta  \n",
       "131845          Venta  "
      ]
     },
     "execution_count": 33,
     "metadata": {},
     "output_type": "execute_result"
    }
   ],
   "source": [
    "data[data['bathrooms']==10]"
   ]
  },
  {
   "cell_type": "code",
   "execution_count": 34,
   "metadata": {},
   "outputs": [
    {
     "data": {
      "text/html": [
       "<div>\n",
       "<style scoped>\n",
       "    .dataframe tbody tr th:only-of-type {\n",
       "        vertical-align: middle;\n",
       "    }\n",
       "\n",
       "    .dataframe tbody tr th {\n",
       "        vertical-align: top;\n",
       "    }\n",
       "\n",
       "    .dataframe thead th {\n",
       "        text-align: right;\n",
       "    }\n",
       "</style>\n",
       "<table border=\"1\" class=\"dataframe\">\n",
       "  <thead>\n",
       "    <tr style=\"text-align: right;\">\n",
       "      <th></th>\n",
       "      <th>start_date</th>\n",
       "      <th>end_date</th>\n",
       "      <th>created_on</th>\n",
       "      <th>lat</th>\n",
       "      <th>lon</th>\n",
       "      <th>l1</th>\n",
       "      <th>l2</th>\n",
       "      <th>l3</th>\n",
       "      <th>rooms</th>\n",
       "      <th>bedrooms</th>\n",
       "      <th>bathrooms</th>\n",
       "      <th>surface_total</th>\n",
       "      <th>surface_covered</th>\n",
       "      <th>price</th>\n",
       "      <th>currency</th>\n",
       "      <th>title</th>\n",
       "      <th>description</th>\n",
       "      <th>property_type</th>\n",
       "      <th>operation_type</th>\n",
       "    </tr>\n",
       "  </thead>\n",
       "  <tbody>\n",
       "    <tr>\n",
       "      <th>34376</th>\n",
       "      <td>2019-04-11</td>\n",
       "      <td>2019-06-08</td>\n",
       "      <td>2019-04-11</td>\n",
       "      <td>-34.628543</td>\n",
       "      <td>-58.453338</td>\n",
       "      <td>Argentina</td>\n",
       "      <td>Capital Federal</td>\n",
       "      <td>Caballito</td>\n",
       "      <td>5.0</td>\n",
       "      <td>4.0</td>\n",
       "      <td>6.0</td>\n",
       "      <td>199.0</td>\n",
       "      <td>199.0</td>\n",
       "      <td>588300.0</td>\n",
       "      <td>USD</td>\n",
       "      <td>DONNA Fiore by Azcuy. Semipiso en triple frent...</td>\n",
       "      <td>Semipiso en triple frente. Departamento de 5 a...</td>\n",
       "      <td>Departamento</td>\n",
       "      <td>Venta</td>\n",
       "    </tr>\n",
       "    <tr>\n",
       "      <th>34377</th>\n",
       "      <td>2019-04-11</td>\n",
       "      <td>2019-06-23</td>\n",
       "      <td>2019-04-11</td>\n",
       "      <td>-34.628543</td>\n",
       "      <td>-58.453338</td>\n",
       "      <td>Argentina</td>\n",
       "      <td>Capital Federal</td>\n",
       "      <td>Caballito</td>\n",
       "      <td>5.0</td>\n",
       "      <td>4.0</td>\n",
       "      <td>6.0</td>\n",
       "      <td>199.0</td>\n",
       "      <td>199.0</td>\n",
       "      <td>568400.0</td>\n",
       "      <td>USD</td>\n",
       "      <td>DONNA Fiore by Azcuy. Semipiso en triple frent...</td>\n",
       "      <td>Semipiso en triple frente. Departamento de 5 a...</td>\n",
       "      <td>Departamento</td>\n",
       "      <td>Venta</td>\n",
       "    </tr>\n",
       "    <tr>\n",
       "      <th>65142</th>\n",
       "      <td>2019-07-14</td>\n",
       "      <td>2019-07-15</td>\n",
       "      <td>2019-07-14</td>\n",
       "      <td>-34.628543</td>\n",
       "      <td>-58.453338</td>\n",
       "      <td>Argentina</td>\n",
       "      <td>Capital Federal</td>\n",
       "      <td>Caballito</td>\n",
       "      <td>5.0</td>\n",
       "      <td>4.0</td>\n",
       "      <td>6.0</td>\n",
       "      <td>199.0</td>\n",
       "      <td>199.0</td>\n",
       "      <td>664100.0</td>\n",
       "      <td>USD</td>\n",
       "      <td>DONNA Fiore by Azcuy. Semipiso en triple frent...</td>\n",
       "      <td>Semipiso en triple frente. Departamento de 5 a...</td>\n",
       "      <td>Departamento</td>\n",
       "      <td>Venta</td>\n",
       "    </tr>\n",
       "    <tr>\n",
       "      <th>141796</th>\n",
       "      <td>2019-07-31</td>\n",
       "      <td>2019-09-04</td>\n",
       "      <td>2019-07-31</td>\n",
       "      <td>-34.628543</td>\n",
       "      <td>-58.453338</td>\n",
       "      <td>Argentina</td>\n",
       "      <td>Capital Federal</td>\n",
       "      <td>Caballito</td>\n",
       "      <td>5.0</td>\n",
       "      <td>4.0</td>\n",
       "      <td>6.0</td>\n",
       "      <td>199.0</td>\n",
       "      <td>199.0</td>\n",
       "      <td>664100.0</td>\n",
       "      <td>USD</td>\n",
       "      <td>DONNA Fiore by Azcuy. Semipiso en triple frent...</td>\n",
       "      <td>Semipiso en triple frente. Departamento de 5 a...</td>\n",
       "      <td>Departamento</td>\n",
       "      <td>Venta</td>\n",
       "    </tr>\n",
       "    <tr>\n",
       "      <th>145619</th>\n",
       "      <td>2020-01-20</td>\n",
       "      <td>9999-12-31</td>\n",
       "      <td>2020-01-20</td>\n",
       "      <td>-34.596275</td>\n",
       "      <td>-58.374802</td>\n",
       "      <td>Argentina</td>\n",
       "      <td>Capital Federal</td>\n",
       "      <td>Retiro</td>\n",
       "      <td>5.0</td>\n",
       "      <td>4.0</td>\n",
       "      <td>6.0</td>\n",
       "      <td>200.0</td>\n",
       "      <td>200.0</td>\n",
       "      <td>750000.0</td>\n",
       "      <td>USD</td>\n",
       "      <td>Espectacular Duplex con Pileta Propia y Vista ...</td>\n",
       "      <td>Increíble Duplex en e plena city porteña al fr...</td>\n",
       "      <td>Departamento</td>\n",
       "      <td>Venta</td>\n",
       "    </tr>\n",
       "  </tbody>\n",
       "</table>\n",
       "</div>"
      ],
      "text/plain": [
       "        start_date    end_date  created_on        lat        lon         l1  \\\n",
       "34376   2019-04-11  2019-06-08  2019-04-11 -34.628543 -58.453338  Argentina   \n",
       "34377   2019-04-11  2019-06-23  2019-04-11 -34.628543 -58.453338  Argentina   \n",
       "65142   2019-07-14  2019-07-15  2019-07-14 -34.628543 -58.453338  Argentina   \n",
       "141796  2019-07-31  2019-09-04  2019-07-31 -34.628543 -58.453338  Argentina   \n",
       "145619  2020-01-20  9999-12-31  2020-01-20 -34.596275 -58.374802  Argentina   \n",
       "\n",
       "                     l2         l3  rooms  bedrooms  bathrooms  surface_total  \\\n",
       "34376   Capital Federal  Caballito    5.0       4.0        6.0          199.0   \n",
       "34377   Capital Federal  Caballito    5.0       4.0        6.0          199.0   \n",
       "65142   Capital Federal  Caballito    5.0       4.0        6.0          199.0   \n",
       "141796  Capital Federal  Caballito    5.0       4.0        6.0          199.0   \n",
       "145619  Capital Federal     Retiro    5.0       4.0        6.0          200.0   \n",
       "\n",
       "        surface_covered     price currency  \\\n",
       "34376             199.0  588300.0      USD   \n",
       "34377             199.0  568400.0      USD   \n",
       "65142             199.0  664100.0      USD   \n",
       "141796            199.0  664100.0      USD   \n",
       "145619            200.0  750000.0      USD   \n",
       "\n",
       "                                                    title  \\\n",
       "34376   DONNA Fiore by Azcuy. Semipiso en triple frent...   \n",
       "34377   DONNA Fiore by Azcuy. Semipiso en triple frent...   \n",
       "65142   DONNA Fiore by Azcuy. Semipiso en triple frent...   \n",
       "141796  DONNA Fiore by Azcuy. Semipiso en triple frent...   \n",
       "145619  Espectacular Duplex con Pileta Propia y Vista ...   \n",
       "\n",
       "                                              description property_type  \\\n",
       "34376   Semipiso en triple frente. Departamento de 5 a...  Departamento   \n",
       "34377   Semipiso en triple frente. Departamento de 5 a...  Departamento   \n",
       "65142   Semipiso en triple frente. Departamento de 5 a...  Departamento   \n",
       "141796  Semipiso en triple frente. Departamento de 5 a...  Departamento   \n",
       "145619  Increíble Duplex en e plena city porteña al fr...  Departamento   \n",
       "\n",
       "       operation_type  \n",
       "34376           Venta  \n",
       "34377           Venta  \n",
       "65142           Venta  \n",
       "141796          Venta  \n",
       "145619          Venta  "
      ]
     },
     "execution_count": 34,
     "metadata": {},
     "output_type": "execute_result"
    }
   ],
   "source": [
    "data[data['bathrooms']==6]"
   ]
  },
  {
   "cell_type": "code",
   "execution_count": 35,
   "metadata": {},
   "outputs": [
    {
     "data": {
      "text/html": [
       "<div>\n",
       "<style scoped>\n",
       "    .dataframe tbody tr th:only-of-type {\n",
       "        vertical-align: middle;\n",
       "    }\n",
       "\n",
       "    .dataframe tbody tr th {\n",
       "        vertical-align: top;\n",
       "    }\n",
       "\n",
       "    .dataframe thead th {\n",
       "        text-align: right;\n",
       "    }\n",
       "</style>\n",
       "<table border=\"1\" class=\"dataframe\">\n",
       "  <thead>\n",
       "    <tr style=\"text-align: right;\">\n",
       "      <th></th>\n",
       "      <th>start_date</th>\n",
       "      <th>end_date</th>\n",
       "      <th>created_on</th>\n",
       "      <th>lat</th>\n",
       "      <th>lon</th>\n",
       "      <th>l1</th>\n",
       "      <th>l2</th>\n",
       "      <th>l3</th>\n",
       "      <th>rooms</th>\n",
       "      <th>bedrooms</th>\n",
       "      <th>bathrooms</th>\n",
       "      <th>surface_total</th>\n",
       "      <th>surface_covered</th>\n",
       "      <th>price</th>\n",
       "      <th>currency</th>\n",
       "      <th>title</th>\n",
       "      <th>description</th>\n",
       "      <th>property_type</th>\n",
       "      <th>operation_type</th>\n",
       "    </tr>\n",
       "  </thead>\n",
       "  <tbody>\n",
       "    <tr>\n",
       "      <th>3711</th>\n",
       "      <td>2019-03-18</td>\n",
       "      <td>2019-06-09</td>\n",
       "      <td>2019-03-18</td>\n",
       "      <td>-34.595801</td>\n",
       "      <td>-58.394750</td>\n",
       "      <td>Argentina</td>\n",
       "      <td>Capital Federal</td>\n",
       "      <td>Recoleta</td>\n",
       "      <td>10.0</td>\n",
       "      <td>7.0</td>\n",
       "      <td>5.0</td>\n",
       "      <td>168.0</td>\n",
       "      <td>168.0</td>\n",
       "      <td>370000.0</td>\n",
       "      <td>USD</td>\n",
       "      <td>VENTA DEPARTAMENTO IDEAL OFICINAS CLÍNICA</td>\n",
       "      <td>Corredor Responsable: Ariel Champanier - CUCIC...</td>\n",
       "      <td>Departamento</td>\n",
       "      <td>Venta</td>\n",
       "    </tr>\n",
       "    <tr>\n",
       "      <th>8042</th>\n",
       "      <td>2019-03-09</td>\n",
       "      <td>2019-05-17</td>\n",
       "      <td>2019-03-09</td>\n",
       "      <td>-34.588616</td>\n",
       "      <td>-58.418107</td>\n",
       "      <td>Argentina</td>\n",
       "      <td>Capital Federal</td>\n",
       "      <td>Palermo</td>\n",
       "      <td>4.0</td>\n",
       "      <td>3.0</td>\n",
       "      <td>5.0</td>\n",
       "      <td>201.0</td>\n",
       "      <td>201.0</td>\n",
       "      <td>375000.0</td>\n",
       "      <td>USD</td>\n",
       "      <td>VENTA PH 4 AMB + DEP SERV PALERMO AL FRENTE</td>\n",
       "      <td>Corredor Responsable: Jorge Roca - CMCPSM 2550...</td>\n",
       "      <td>PH</td>\n",
       "      <td>Venta</td>\n",
       "    </tr>\n",
       "    <tr>\n",
       "      <th>8210</th>\n",
       "      <td>2019-03-09</td>\n",
       "      <td>2019-06-23</td>\n",
       "      <td>2019-03-09</td>\n",
       "      <td>-34.627735</td>\n",
       "      <td>-58.430333</td>\n",
       "      <td>Argentina</td>\n",
       "      <td>Capital Federal</td>\n",
       "      <td>Caballito</td>\n",
       "      <td>5.0</td>\n",
       "      <td>4.0</td>\n",
       "      <td>5.0</td>\n",
       "      <td>160.0</td>\n",
       "      <td>160.0</td>\n",
       "      <td>444100.0</td>\n",
       "      <td>USD</td>\n",
       "      <td>DONNA Magna by Azcuy</td>\n",
       "      <td>Departamento de 5 ambientes al frente.Full Ame...</td>\n",
       "      <td>Departamento</td>\n",
       "      <td>Venta</td>\n",
       "    </tr>\n",
       "    <tr>\n",
       "      <th>8795</th>\n",
       "      <td>2019-11-01</td>\n",
       "      <td>2019-11-23</td>\n",
       "      <td>2019-11-01</td>\n",
       "      <td>-34.617719</td>\n",
       "      <td>-58.362056</td>\n",
       "      <td>Argentina</td>\n",
       "      <td>Capital Federal</td>\n",
       "      <td>Puerto Madero</td>\n",
       "      <td>4.0</td>\n",
       "      <td>3.0</td>\n",
       "      <td>5.0</td>\n",
       "      <td>174.0</td>\n",
       "      <td>174.0</td>\n",
       "      <td>1150000.0</td>\n",
       "      <td>USD</td>\n",
       "      <td>Venta excelente departamento en Renoir 1</td>\n",
       "      <td>Renoir Torre 1Excelente departamento en lujosa...</td>\n",
       "      <td>Departamento</td>\n",
       "      <td>Venta</td>\n",
       "    </tr>\n",
       "    <tr>\n",
       "      <th>9049</th>\n",
       "      <td>2019-11-03</td>\n",
       "      <td>2019-12-23</td>\n",
       "      <td>2019-11-03</td>\n",
       "      <td>-34.560890</td>\n",
       "      <td>-58.452093</td>\n",
       "      <td>Argentina</td>\n",
       "      <td>Capital Federal</td>\n",
       "      <td>Belgrano</td>\n",
       "      <td>6.0</td>\n",
       "      <td>4.0</td>\n",
       "      <td>5.0</td>\n",
       "      <td>155.0</td>\n",
       "      <td>155.0</td>\n",
       "      <td>550000.0</td>\n",
       "      <td>USD</td>\n",
       "      <td>EXCELENTE PISO RECICLADO A NUEVO CON COCHERA</td>\n",
       "      <td>Excelente Piso que consta de  living y comedor...</td>\n",
       "      <td>Departamento</td>\n",
       "      <td>Venta</td>\n",
       "    </tr>\n",
       "    <tr>\n",
       "      <th>...</th>\n",
       "      <td>...</td>\n",
       "      <td>...</td>\n",
       "      <td>...</td>\n",
       "      <td>...</td>\n",
       "      <td>...</td>\n",
       "      <td>...</td>\n",
       "      <td>...</td>\n",
       "      <td>...</td>\n",
       "      <td>...</td>\n",
       "      <td>...</td>\n",
       "      <td>...</td>\n",
       "      <td>...</td>\n",
       "      <td>...</td>\n",
       "      <td>...</td>\n",
       "      <td>...</td>\n",
       "      <td>...</td>\n",
       "      <td>...</td>\n",
       "      <td>...</td>\n",
       "      <td>...</td>\n",
       "    </tr>\n",
       "    <tr>\n",
       "      <th>141836</th>\n",
       "      <td>2019-07-31</td>\n",
       "      <td>2019-12-20</td>\n",
       "      <td>2019-07-31</td>\n",
       "      <td>-34.609974</td>\n",
       "      <td>-58.361287</td>\n",
       "      <td>Argentina</td>\n",
       "      <td>Capital Federal</td>\n",
       "      <td>Puerto Madero</td>\n",
       "      <td>4.0</td>\n",
       "      <td>3.0</td>\n",
       "      <td>5.0</td>\n",
       "      <td>182.0</td>\n",
       "      <td>182.0</td>\n",
       "      <td>1140000.0</td>\n",
       "      <td>USD</td>\n",
       "      <td>Increìble vista !! Altísimo, ya escriturado !!</td>\n",
       "      <td>Renoir Torre 2.Excelente departamento piso muy...</td>\n",
       "      <td>Departamento</td>\n",
       "      <td>Venta</td>\n",
       "    </tr>\n",
       "    <tr>\n",
       "      <th>141837</th>\n",
       "      <td>2019-07-31</td>\n",
       "      <td>2019-12-20</td>\n",
       "      <td>2019-07-31</td>\n",
       "      <td>-34.609974</td>\n",
       "      <td>-58.361287</td>\n",
       "      <td>Argentina</td>\n",
       "      <td>Capital Federal</td>\n",
       "      <td>Puerto Madero</td>\n",
       "      <td>4.0</td>\n",
       "      <td>3.0</td>\n",
       "      <td>5.0</td>\n",
       "      <td>182.0</td>\n",
       "      <td>182.0</td>\n",
       "      <td>1350000.0</td>\n",
       "      <td>USD</td>\n",
       "      <td>Puerto Madero - Departamento Venta USD 1.350.000</td>\n",
       "      <td>Renoir Torre 2Excelente departamento a estrena...</td>\n",
       "      <td>Departamento</td>\n",
       "      <td>Venta</td>\n",
       "    </tr>\n",
       "    <tr>\n",
       "      <th>141838</th>\n",
       "      <td>2019-07-31</td>\n",
       "      <td>2019-12-20</td>\n",
       "      <td>2019-07-31</td>\n",
       "      <td>-34.609974</td>\n",
       "      <td>-58.361287</td>\n",
       "      <td>Argentina</td>\n",
       "      <td>Capital Federal</td>\n",
       "      <td>Puerto Madero</td>\n",
       "      <td>4.0</td>\n",
       "      <td>3.0</td>\n",
       "      <td>5.0</td>\n",
       "      <td>182.0</td>\n",
       "      <td>182.0</td>\n",
       "      <td>1400000.0</td>\n",
       "      <td>USD</td>\n",
       "      <td>Puerto Madero - Departamento Venta USD 1.400.000</td>\n",
       "      <td>Renoir Torre 2.Excelente departamento a estren...</td>\n",
       "      <td>Departamento</td>\n",
       "      <td>Venta</td>\n",
       "    </tr>\n",
       "    <tr>\n",
       "      <th>141839</th>\n",
       "      <td>2019-07-31</td>\n",
       "      <td>2019-12-20</td>\n",
       "      <td>2019-07-31</td>\n",
       "      <td>-34.609974</td>\n",
       "      <td>-58.361287</td>\n",
       "      <td>Argentina</td>\n",
       "      <td>Capital Federal</td>\n",
       "      <td>Puerto Madero</td>\n",
       "      <td>4.0</td>\n",
       "      <td>3.0</td>\n",
       "      <td>5.0</td>\n",
       "      <td>182.0</td>\n",
       "      <td>182.0</td>\n",
       "      <td>1180000.0</td>\n",
       "      <td>USD</td>\n",
       "      <td>Departamento 2 Suites con dependencia!! Venta ...</td>\n",
       "      <td>Renoir Torre 2. Excelente departamento a estre...</td>\n",
       "      <td>Departamento</td>\n",
       "      <td>Venta</td>\n",
       "    </tr>\n",
       "    <tr>\n",
       "      <th>141902</th>\n",
       "      <td>2019-07-31</td>\n",
       "      <td>2019-08-22</td>\n",
       "      <td>2019-07-31</td>\n",
       "      <td>-34.613391</td>\n",
       "      <td>-58.360716</td>\n",
       "      <td>Argentina</td>\n",
       "      <td>Capital Federal</td>\n",
       "      <td>Puerto Madero</td>\n",
       "      <td>4.0</td>\n",
       "      <td>3.0</td>\n",
       "      <td>5.0</td>\n",
       "      <td>190.0</td>\n",
       "      <td>190.0</td>\n",
       "      <td>1190000.0</td>\n",
       "      <td>USD</td>\n",
       "      <td>Puerto Madero - Departamento Venta USD 1.190.000</td>\n",
       "      <td>RIVER VIEWEspectacular departamento en lujosa ...</td>\n",
       "      <td>Departamento</td>\n",
       "      <td>Venta</td>\n",
       "    </tr>\n",
       "  </tbody>\n",
       "</table>\n",
       "<p>114 rows × 19 columns</p>\n",
       "</div>"
      ],
      "text/plain": [
       "        start_date    end_date  created_on        lat        lon         l1  \\\n",
       "3711    2019-03-18  2019-06-09  2019-03-18 -34.595801 -58.394750  Argentina   \n",
       "8042    2019-03-09  2019-05-17  2019-03-09 -34.588616 -58.418107  Argentina   \n",
       "8210    2019-03-09  2019-06-23  2019-03-09 -34.627735 -58.430333  Argentina   \n",
       "8795    2019-11-01  2019-11-23  2019-11-01 -34.617719 -58.362056  Argentina   \n",
       "9049    2019-11-03  2019-12-23  2019-11-03 -34.560890 -58.452093  Argentina   \n",
       "...            ...         ...         ...        ...        ...        ...   \n",
       "141836  2019-07-31  2019-12-20  2019-07-31 -34.609974 -58.361287  Argentina   \n",
       "141837  2019-07-31  2019-12-20  2019-07-31 -34.609974 -58.361287  Argentina   \n",
       "141838  2019-07-31  2019-12-20  2019-07-31 -34.609974 -58.361287  Argentina   \n",
       "141839  2019-07-31  2019-12-20  2019-07-31 -34.609974 -58.361287  Argentina   \n",
       "141902  2019-07-31  2019-08-22  2019-07-31 -34.613391 -58.360716  Argentina   \n",
       "\n",
       "                     l2             l3  rooms  bedrooms  bathrooms  \\\n",
       "3711    Capital Federal       Recoleta   10.0       7.0        5.0   \n",
       "8042    Capital Federal        Palermo    4.0       3.0        5.0   \n",
       "8210    Capital Federal      Caballito    5.0       4.0        5.0   \n",
       "8795    Capital Federal  Puerto Madero    4.0       3.0        5.0   \n",
       "9049    Capital Federal       Belgrano    6.0       4.0        5.0   \n",
       "...                 ...            ...    ...       ...        ...   \n",
       "141836  Capital Federal  Puerto Madero    4.0       3.0        5.0   \n",
       "141837  Capital Federal  Puerto Madero    4.0       3.0        5.0   \n",
       "141838  Capital Federal  Puerto Madero    4.0       3.0        5.0   \n",
       "141839  Capital Federal  Puerto Madero    4.0       3.0        5.0   \n",
       "141902  Capital Federal  Puerto Madero    4.0       3.0        5.0   \n",
       "\n",
       "        surface_total  surface_covered      price currency  \\\n",
       "3711            168.0            168.0   370000.0      USD   \n",
       "8042            201.0            201.0   375000.0      USD   \n",
       "8210            160.0            160.0   444100.0      USD   \n",
       "8795            174.0            174.0  1150000.0      USD   \n",
       "9049            155.0            155.0   550000.0      USD   \n",
       "...               ...              ...        ...      ...   \n",
       "141836          182.0            182.0  1140000.0      USD   \n",
       "141837          182.0            182.0  1350000.0      USD   \n",
       "141838          182.0            182.0  1400000.0      USD   \n",
       "141839          182.0            182.0  1180000.0      USD   \n",
       "141902          190.0            190.0  1190000.0      USD   \n",
       "\n",
       "                                                    title  \\\n",
       "3711            VENTA DEPARTAMENTO IDEAL OFICINAS CLÍNICA   \n",
       "8042          VENTA PH 4 AMB + DEP SERV PALERMO AL FRENTE   \n",
       "8210                                 DONNA Magna by Azcuy   \n",
       "8795             Venta excelente departamento en Renoir 1   \n",
       "9049         EXCELENTE PISO RECICLADO A NUEVO CON COCHERA   \n",
       "...                                                   ...   \n",
       "141836    Increìble vista !! Altísimo, ya escriturado !!    \n",
       "141837   Puerto Madero - Departamento Venta USD 1.350.000   \n",
       "141838   Puerto Madero - Departamento Venta USD 1.400.000   \n",
       "141839  Departamento 2 Suites con dependencia!! Venta ...   \n",
       "141902   Puerto Madero - Departamento Venta USD 1.190.000   \n",
       "\n",
       "                                              description property_type  \\\n",
       "3711    Corredor Responsable: Ariel Champanier - CUCIC...  Departamento   \n",
       "8042    Corredor Responsable: Jorge Roca - CMCPSM 2550...            PH   \n",
       "8210    Departamento de 5 ambientes al frente.Full Ame...  Departamento   \n",
       "8795    Renoir Torre 1Excelente departamento en lujosa...  Departamento   \n",
       "9049    Excelente Piso que consta de  living y comedor...  Departamento   \n",
       "...                                                   ...           ...   \n",
       "141836  Renoir Torre 2.Excelente departamento piso muy...  Departamento   \n",
       "141837  Renoir Torre 2Excelente departamento a estrena...  Departamento   \n",
       "141838  Renoir Torre 2.Excelente departamento a estren...  Departamento   \n",
       "141839  Renoir Torre 2. Excelente departamento a estre...  Departamento   \n",
       "141902  RIVER VIEWEspectacular departamento en lujosa ...  Departamento   \n",
       "\n",
       "       operation_type  \n",
       "3711            Venta  \n",
       "8042            Venta  \n",
       "8210            Venta  \n",
       "8795            Venta  \n",
       "9049            Venta  \n",
       "...               ...  \n",
       "141836          Venta  \n",
       "141837          Venta  \n",
       "141838          Venta  \n",
       "141839          Venta  \n",
       "141902          Venta  \n",
       "\n",
       "[114 rows x 19 columns]"
      ]
     },
     "execution_count": 35,
     "metadata": {},
     "output_type": "execute_result"
    }
   ],
   "source": [
    "data[data['bathrooms']==5]"
   ]
  },
  {
   "cell_type": "markdown",
   "metadata": {},
   "source": [
    "Al verificar las superficies dadas para las propiedades que presentan valores atípicos en el número de baños, podemos ver que las propiedades que tienen un número superior a 10 baños presentan inconsistencias en el tamaño de las propiedades, pareciendo ilógico que una propiedad pueda tener menos de 40 $m^2$ y tener por ejemplo, 11 baños. Procedo a acotar la cantidad de baños menor a 6 unidades."
   ]
  },
  {
   "cell_type": "code",
   "execution_count": 36,
   "metadata": {},
   "outputs": [],
   "source": [
    "data = data[data['bathrooms']<=6]"
   ]
  },
  {
   "cell_type": "code",
   "execution_count": 37,
   "metadata": {},
   "outputs": [
    {
     "data": {
      "text/plain": [
       "<AxesSubplot:xlabel='bathrooms'>"
      ]
     },
     "execution_count": 37,
     "metadata": {},
     "output_type": "execute_result"
    },
    {
     "data": {
      "image/png": "[encoded data removed]",
      "text/plain": [
       "<Figure size 864x720 with 1 Axes>"
      ]
     },
     "metadata": {
      "needs_background": "light"
     },
     "output_type": "display_data"
    }
   ],
   "source": [
    "plt.figure(figsize=(12,10))\n",
    "sns.boxplot(x = 'bathrooms', data = data)"
   ]
  },
  {
   "cell_type": "code",
   "execution_count": 38,
   "metadata": {},
   "outputs": [
    {
     "data": {
      "text/plain": [
       "3249900.0"
      ]
     },
     "execution_count": 38,
     "metadata": {},
     "output_type": "execute_result"
    }
   ],
   "source": [
    "data.price.max()"
   ]
  },
  {
   "cell_type": "markdown",
   "metadata": {},
   "source": [
    "Al solo eliminar valores atípicos de *surface_total*, se eliminaron los de *surface_covered* como era supuesto. A su vez, podemos observar un cambio sustancial en la varianza de los datos de *price*. También observamos que el valor máximo de *price* cambio. Ya el mayor valor no es 4M USD."
   ]
  },
  {
   "cell_type": "code",
   "execution_count": 39,
   "metadata": {},
   "outputs": [
    {
     "data": {
      "text/plain": [
       "Index(['start_date', 'end_date', 'created_on', 'lat', 'lon', 'l1', 'l2', 'l3',\n",
       "       'rooms', 'bedrooms', 'bathrooms', 'surface_total', 'surface_covered',\n",
       "       'price', 'currency', 'title', 'description', 'property_type',\n",
       "       'operation_type'],\n",
       "      dtype='object')"
      ]
     },
     "execution_count": 39,
     "metadata": {},
     "output_type": "execute_result"
    }
   ],
   "source": [
    "data.columns"
   ]
  },
  {
   "cell_type": "code",
   "execution_count": 40,
   "metadata": {},
   "outputs": [],
   "source": [
    "data.to_csv('Base_Modelacion_Avanzada.csv')"
   ]
  },
  {
   "cell_type": "code",
   "execution_count": 41,
   "metadata": {},
   "outputs": [],
   "source": [
    "#columnas para eliminar\n",
    "columns = ['start_date', 'end_date', 'created_on', \n",
    "           'lat', 'lon', 'l1', 'l2', 'l3',\n",
    "           'currency', 'title', 'description', \n",
    "           'operation_type', 'property_type'\n",
    "          ]"
   ]
  },
  {
   "cell_type": "code",
   "execution_count": 42,
   "metadata": {},
   "outputs": [],
   "source": [
    "data.drop(columns , axis = 1, inplace= True) "
   ]
  },
  {
   "cell_type": "code",
   "execution_count": 43,
   "metadata": {},
   "outputs": [
    {
     "name": "stdout",
     "output_type": "stream",
     "text": [
      "<class 'pandas.core.frame.DataFrame'>\n",
      "Int64Index: 75282 entries, 0 to 146557\n",
      "Data columns (total 6 columns):\n",
      " #   Column           Non-Null Count  Dtype  \n",
      "---  ------           --------------  -----  \n",
      " 0   rooms            75282 non-null  float64\n",
      " 1   bedrooms         75282 non-null  float64\n",
      " 2   bathrooms        75282 non-null  float64\n",
      " 3   surface_total    75282 non-null  float64\n",
      " 4   surface_covered  75282 non-null  float64\n",
      " 5   price            75282 non-null  float64\n",
      "dtypes: float64(6)\n",
      "memory usage: 4.0 MB\n"
     ]
    }
   ],
   "source": [
    "data.info()"
   ]
  },
  {
   "cell_type": "code",
   "execution_count": 44,
   "metadata": {},
   "outputs": [
    {
     "data": {
      "text/plain": [
       "rooms              0\n",
       "bedrooms           0\n",
       "bathrooms          0\n",
       "surface_total      0\n",
       "surface_covered    0\n",
       "price              0\n",
       "dtype: int64"
      ]
     },
     "execution_count": 44,
     "metadata": {},
     "output_type": "execute_result"
    }
   ],
   "source": [
    "data.isnull().sum()"
   ]
  },
  {
   "cell_type": "markdown",
   "metadata": {},
   "source": [
    "## Evaluación de desempeño - Benchmark (Árbol de decisión)"
   ]
  },
  {
   "cell_type": "code",
   "execution_count": 45,
   "metadata": {},
   "outputs": [],
   "source": [
    "X = data.drop(columns = 'price')\n",
    "y = data[['price']]"
   ]
  },
  {
   "cell_type": "markdown",
   "metadata": {},
   "source": [
    "## 2. Estandarización"
   ]
  },
  {
   "cell_type": "code",
   "execution_count": 46,
   "metadata": {},
   "outputs": [],
   "source": [
    "from sklearn.preprocessing import StandardScaler"
   ]
  },
  {
   "cell_type": "code",
   "execution_count": 47,
   "metadata": {},
   "outputs": [],
   "source": [
    "scaler = StandardScaler()"
   ]
  },
  {
   "cell_type": "code",
   "execution_count": 48,
   "metadata": {},
   "outputs": [
    {
     "data": {
      "text/plain": [
       "(75282, 5)"
      ]
     },
     "execution_count": 48,
     "metadata": {},
     "output_type": "execute_result"
    }
   ],
   "source": [
    "X = pd.DataFrame(scaler.fit_transform(X))\n",
    "X.shape"
   ]
  },
  {
   "cell_type": "markdown",
   "metadata": {},
   "source": [
    "### Comparación desempeño"
   ]
  },
  {
   "cell_type": "code",
   "execution_count": 49,
   "metadata": {},
   "outputs": [],
   "source": [
    "from sklearn.model_selection import train_test_split\n",
    "\n",
    "from sklearn.metrics import mean_squared_error, mean_absolute_error, r2_score\n",
    "from sklearn.tree import DecisionTreeRegressor"
   ]
  },
  {
   "cell_type": "code",
   "execution_count": 50,
   "metadata": {},
   "outputs": [],
   "source": [
    "X_train, X_test, y_train, y_test = train_test_split(X, y, test_size=0.33, random_state=42)"
   ]
  },
  {
   "cell_type": "code",
   "execution_count": 51,
   "metadata": {},
   "outputs": [],
   "source": [
    "tree_regressor = DecisionTreeRegressor(max_depth= 6, random_state=42)"
   ]
  },
  {
   "cell_type": "code",
   "execution_count": 52,
   "metadata": {},
   "outputs": [
    {
     "data": {
      "text/plain": [
       "DecisionTreeRegressor(max_depth=6, random_state=42)"
      ]
     },
     "execution_count": 52,
     "metadata": {},
     "output_type": "execute_result"
    }
   ],
   "source": [
    "tree_regressor.fit(X_train, y_train)"
   ]
  },
  {
   "cell_type": "code",
   "execution_count": 53,
   "metadata": {},
   "outputs": [],
   "source": [
    "y_pred= tree_regressor.predict(X_test)"
   ]
  },
  {
   "cell_type": "code",
   "execution_count": 54,
   "metadata": {},
   "outputs": [
    {
     "data": {
      "text/plain": [
       "0.6109701614952672"
      ]
     },
     "execution_count": 54,
     "metadata": {},
     "output_type": "execute_result"
    }
   ],
   "source": [
    "tree_regressor.score(X_train, y_train)"
   ]
  },
  {
   "cell_type": "code",
   "execution_count": 55,
   "metadata": {},
   "outputs": [
    {
     "data": {
      "text/plain": [
       "0.603441251541063"
      ]
     },
     "execution_count": 55,
     "metadata": {},
     "output_type": "execute_result"
    }
   ],
   "source": [
    "tree_regressor.score(X_test, y_test)"
   ]
  },
  {
   "cell_type": "code",
   "execution_count": 56,
   "metadata": {},
   "outputs": [
    {
     "name": "stdout",
     "output_type": "stream",
     "text": [
      "Mean squared error: 9649623814.30\n",
      "Coefficient of determination: 0.60\n",
      "Mean absolute error: 56065.74\n"
     ]
    }
   ],
   "source": [
    "# The mean squared error\n",
    "print('Mean squared error: %.2f'\n",
    "      % mean_squared_error(y_test, y_pred))\n",
    "# The coefficient of determination: 1 is perfect prediction\n",
    "print('Coefficient of determination: %.2f'\n",
    "      % r2_score(y_test, y_pred))\n",
    "# The mean absolute error\n",
    "print('Mean absolute error: %.2f'\n",
    "      % mean_absolute_error(y_test, y_pred))"
   ]
  },
  {
   "cell_type": "markdown",
   "metadata": {},
   "source": [
    "Finalmente, después de realizar todo el tratamiento de los datos podemos concluir que el **MAE** mejoró. Anteriormente era igual a **77000.78**, lo cual representa una mejora del 27% con preprocesamiento de los datos.\n"
   ]
  },
  {
   "cell_type": "markdown",
   "metadata": {},
   "source": [
    "# Modelos Avanzados"
   ]
  },
  {
   "cell_type": "markdown",
   "metadata": {},
   "source": [
    "## Encoders"
   ]
  },
  {
   "cell_type": "code",
   "execution_count": 57,
   "metadata": {},
   "outputs": [
    {
     "name": "stdout",
     "output_type": "stream",
     "text": [
      "<class 'pandas.core.frame.DataFrame'>\n",
      "RangeIndex: 75282 entries, 0 to 75281\n",
      "Data columns (total 20 columns):\n",
      " #   Column           Non-Null Count  Dtype  \n",
      "---  ------           --------------  -----  \n",
      " 0   Unnamed: 0       75282 non-null  int64  \n",
      " 1   start_date       75282 non-null  object \n",
      " 2   end_date         75282 non-null  object \n",
      " 3   created_on       75282 non-null  object \n",
      " 4   lat              71565 non-null  float64\n",
      " 5   lon              71565 non-null  float64\n",
      " 6   l1               75282 non-null  object \n",
      " 7   l2               75282 non-null  object \n",
      " 8   l3               75282 non-null  object \n",
      " 9   rooms            75282 non-null  float64\n",
      " 10  bedrooms         75282 non-null  float64\n",
      " 11  bathrooms        75282 non-null  float64\n",
      " 12  surface_total    75282 non-null  float64\n",
      " 13  surface_covered  75282 non-null  float64\n",
      " 14  price            75282 non-null  float64\n",
      " 15  currency         75282 non-null  object \n",
      " 16  title            75282 non-null  object \n",
      " 17  description      75282 non-null  object \n",
      " 18  property_type    75282 non-null  object \n",
      " 19  operation_type   75282 non-null  object \n",
      "dtypes: float64(8), int64(1), object(11)\n",
      "memory usage: 11.5+ MB\n"
     ]
    }
   ],
   "source": [
    "data = pd.read_csv('Base_Modelacion_Avanzada.csv', header=0)\n",
    "data.info()"
   ]
  },
  {
   "cell_type": "code",
   "execution_count": 58,
   "metadata": {},
   "outputs": [
    {
     "data": {
      "image/png": "[encoded data removed]",
      "text/plain": [
       "<Figure size 432x288 with 2 Axes>"
      ]
     },
     "metadata": {
      "needs_background": "light"
     },
     "output_type": "display_data"
    }
   ],
   "source": [
    "# PH\n",
    "corrMatrix = data.loc[(data['property_type'])=='PH'].corr()\n",
    "sns.heatmap(corrMatrix, annot=True)\n",
    "plt.title(\"Matrix de correlación tipo de propiedad PH\")\n",
    "plt.show()"
   ]
  },
  {
   "cell_type": "code",
   "execution_count": 59,
   "metadata": {},
   "outputs": [
    {
     "data": {
      "image/png": "[encoded data removed]",
      "text/plain": [
       "<Figure size 432x288 with 2 Axes>"
      ]
     },
     "metadata": {
      "needs_background": "light"
     },
     "output_type": "display_data"
    }
   ],
   "source": [
    "# Departamento\n",
    "corrMatrix = data.loc[(data['property_type'])=='Departamento'].corr()\n",
    "sns.heatmap(corrMatrix, annot=True)\n",
    "plt.title(\"Matrix de correlación tipo de propiedad PH\")\n",
    "plt.show()"
   ]
  },
  {
   "cell_type": "code",
   "execution_count": 60,
   "metadata": {},
   "outputs": [
    {
     "data": {
      "image/png": "[encoded data removed]",
      "text/plain": [
       "<Figure size 432x288 with 2 Axes>"
      ]
     },
     "metadata": {
      "needs_background": "light"
     },
     "output_type": "display_data"
    }
   ],
   "source": [
    "# Casa\n",
    "corrMatrix = data.loc[(data['property_type'])=='Casa'].corr()\n",
    "sns.heatmap(corrMatrix, annot=True)\n",
    "plt.title(\"Matrix de correlación tipo de propiedad PH\")\n",
    "plt.show()"
   ]
  },
  {
   "cell_type": "code",
   "execution_count": 61,
   "metadata": {},
   "outputs": [
    {
     "data": {
      "image/png": "[encoded data removed]",
      "text/plain": [
       "<Figure size 432x288 with 2 Axes>"
      ]
     },
     "metadata": {
      "needs_background": "light"
     },
     "output_type": "display_data"
    }
   ],
   "source": [
    "#General\n",
    "corrMatrix = data.corr()\n",
    "sns.heatmap(corrMatrix, annot=True)\n",
    "plt.title(\"Matrix de correlación\")\n",
    "plt.show()"
   ]
  },
  {
   "cell_type": "code",
   "execution_count": 62,
   "metadata": {},
   "outputs": [
    {
     "data": {
      "text/plain": [
       "Index(['Unnamed: 0', 'start_date', 'end_date', 'created_on', 'lat', 'lon',\n",
       "       'l1', 'l2', 'l3', 'rooms', 'bedrooms', 'bathrooms', 'surface_total',\n",
       "       'surface_covered', 'price', 'currency', 'title', 'description',\n",
       "       'property_type', 'operation_type'],\n",
       "      dtype='object')"
      ]
     },
     "execution_count": 62,
     "metadata": {},
     "output_type": "execute_result"
    }
   ],
   "source": [
    "data.columns"
   ]
  },
  {
   "cell_type": "code",
   "execution_count": 63,
   "metadata": {},
   "outputs": [],
   "source": [
    "#columnas para eliminar\n",
    "columns = ['Unnamed: 0', 'start_date', 'end_date', 'created_on', \n",
    "           'lat', 'lon', 'l1', 'l2',\n",
    "           'currency', 'title', 'description', \n",
    "           'operation_type'\n",
    "          ]"
   ]
  },
  {
   "cell_type": "code",
   "execution_count": 64,
   "metadata": {},
   "outputs": [],
   "source": [
    "data.drop(columns, axis = 1, inplace= True)"
   ]
  },
  {
   "cell_type": "code",
   "execution_count": 65,
   "metadata": {},
   "outputs": [],
   "source": [
    "#encoding\n",
    "data = pd.get_dummies(data, columns=['l3', 'property_type'])"
   ]
  },
  {
   "cell_type": "code",
   "execution_count": 66,
   "metadata": {
    "scrolled": true
   },
   "outputs": [
    {
     "data": {
      "text/html": [
       "<div>\n",
       "<style scoped>\n",
       "    .dataframe tbody tr th:only-of-type {\n",
       "        vertical-align: middle;\n",
       "    }\n",
       "\n",
       "    .dataframe tbody tr th {\n",
       "        vertical-align: top;\n",
       "    }\n",
       "\n",
       "    .dataframe thead th {\n",
       "        text-align: right;\n",
       "    }\n",
       "</style>\n",
       "<table border=\"1\" class=\"dataframe\">\n",
       "  <thead>\n",
       "    <tr style=\"text-align: right;\">\n",
       "      <th></th>\n",
       "      <th>rooms</th>\n",
       "      <th>bedrooms</th>\n",
       "      <th>bathrooms</th>\n",
       "      <th>surface_total</th>\n",
       "      <th>surface_covered</th>\n",
       "      <th>price</th>\n",
       "      <th>l3_Abasto</th>\n",
       "      <th>l3_Agronomía</th>\n",
       "      <th>l3_Almagro</th>\n",
       "      <th>l3_Balvanera</th>\n",
       "      <th>...</th>\n",
       "      <th>l3_Villa Pueyrredón</th>\n",
       "      <th>l3_Villa Real</th>\n",
       "      <th>l3_Villa Riachuelo</th>\n",
       "      <th>l3_Villa Santa Rita</th>\n",
       "      <th>l3_Villa Soldati</th>\n",
       "      <th>l3_Villa Urquiza</th>\n",
       "      <th>l3_Villa del Parque</th>\n",
       "      <th>property_type_Casa</th>\n",
       "      <th>property_type_Departamento</th>\n",
       "      <th>property_type_PH</th>\n",
       "    </tr>\n",
       "  </thead>\n",
       "  <tbody>\n",
       "    <tr>\n",
       "      <th>0</th>\n",
       "      <td>7.0</td>\n",
       "      <td>7.0</td>\n",
       "      <td>2.0</td>\n",
       "      <td>140.0</td>\n",
       "      <td>140.0</td>\n",
       "      <td>153000.0</td>\n",
       "      <td>0</td>\n",
       "      <td>0</td>\n",
       "      <td>0</td>\n",
       "      <td>0</td>\n",
       "      <td>...</td>\n",
       "      <td>0</td>\n",
       "      <td>0</td>\n",
       "      <td>0</td>\n",
       "      <td>0</td>\n",
       "      <td>0</td>\n",
       "      <td>0</td>\n",
       "      <td>0</td>\n",
       "      <td>0</td>\n",
       "      <td>1</td>\n",
       "      <td>0</td>\n",
       "    </tr>\n",
       "    <tr>\n",
       "      <th>1</th>\n",
       "      <td>2.0</td>\n",
       "      <td>1.0</td>\n",
       "      <td>2.0</td>\n",
       "      <td>70.0</td>\n",
       "      <td>70.0</td>\n",
       "      <td>159000.0</td>\n",
       "      <td>0</td>\n",
       "      <td>0</td>\n",
       "      <td>0</td>\n",
       "      <td>0</td>\n",
       "      <td>...</td>\n",
       "      <td>0</td>\n",
       "      <td>0</td>\n",
       "      <td>0</td>\n",
       "      <td>0</td>\n",
       "      <td>0</td>\n",
       "      <td>0</td>\n",
       "      <td>0</td>\n",
       "      <td>0</td>\n",
       "      <td>0</td>\n",
       "      <td>1</td>\n",
       "    </tr>\n",
       "    <tr>\n",
       "      <th>2</th>\n",
       "      <td>2.0</td>\n",
       "      <td>1.0</td>\n",
       "      <td>1.0</td>\n",
       "      <td>45.0</td>\n",
       "      <td>45.0</td>\n",
       "      <td>125000.0</td>\n",
       "      <td>0</td>\n",
       "      <td>0</td>\n",
       "      <td>0</td>\n",
       "      <td>0</td>\n",
       "      <td>...</td>\n",
       "      <td>0</td>\n",
       "      <td>0</td>\n",
       "      <td>0</td>\n",
       "      <td>0</td>\n",
       "      <td>0</td>\n",
       "      <td>0</td>\n",
       "      <td>0</td>\n",
       "      <td>0</td>\n",
       "      <td>0</td>\n",
       "      <td>1</td>\n",
       "    </tr>\n",
       "    <tr>\n",
       "      <th>3</th>\n",
       "      <td>2.0</td>\n",
       "      <td>1.0</td>\n",
       "      <td>1.0</td>\n",
       "      <td>85.0</td>\n",
       "      <td>85.0</td>\n",
       "      <td>295000.0</td>\n",
       "      <td>0</td>\n",
       "      <td>0</td>\n",
       "      <td>0</td>\n",
       "      <td>0</td>\n",
       "      <td>...</td>\n",
       "      <td>0</td>\n",
       "      <td>0</td>\n",
       "      <td>0</td>\n",
       "      <td>0</td>\n",
       "      <td>0</td>\n",
       "      <td>0</td>\n",
       "      <td>0</td>\n",
       "      <td>0</td>\n",
       "      <td>0</td>\n",
       "      <td>1</td>\n",
       "    </tr>\n",
       "    <tr>\n",
       "      <th>4</th>\n",
       "      <td>2.0</td>\n",
       "      <td>1.0</td>\n",
       "      <td>1.0</td>\n",
       "      <td>56.0</td>\n",
       "      <td>56.0</td>\n",
       "      <td>150000.0</td>\n",
       "      <td>0</td>\n",
       "      <td>0</td>\n",
       "      <td>0</td>\n",
       "      <td>0</td>\n",
       "      <td>...</td>\n",
       "      <td>0</td>\n",
       "      <td>0</td>\n",
       "      <td>0</td>\n",
       "      <td>0</td>\n",
       "      <td>0</td>\n",
       "      <td>0</td>\n",
       "      <td>0</td>\n",
       "      <td>0</td>\n",
       "      <td>0</td>\n",
       "      <td>1</td>\n",
       "    </tr>\n",
       "  </tbody>\n",
       "</table>\n",
       "<p>5 rows × 66 columns</p>\n",
       "</div>"
      ],
      "text/plain": [
       "   rooms  bedrooms  bathrooms  surface_total  surface_covered     price  \\\n",
       "0    7.0       7.0        2.0          140.0            140.0  153000.0   \n",
       "1    2.0       1.0        2.0           70.0             70.0  159000.0   \n",
       "2    2.0       1.0        1.0           45.0             45.0  125000.0   \n",
       "3    2.0       1.0        1.0           85.0             85.0  295000.0   \n",
       "4    2.0       1.0        1.0           56.0             56.0  150000.0   \n",
       "\n",
       "   l3_Abasto  l3_Agronomía  l3_Almagro  l3_Balvanera  ...  \\\n",
       "0          0             0           0             0  ...   \n",
       "1          0             0           0             0  ...   \n",
       "2          0             0           0             0  ...   \n",
       "3          0             0           0             0  ...   \n",
       "4          0             0           0             0  ...   \n",
       "\n",
       "   l3_Villa Pueyrredón  l3_Villa Real  l3_Villa Riachuelo  \\\n",
       "0                    0              0                   0   \n",
       "1                    0              0                   0   \n",
       "2                    0              0                   0   \n",
       "3                    0              0                   0   \n",
       "4                    0              0                   0   \n",
       "\n",
       "   l3_Villa Santa Rita  l3_Villa Soldati  l3_Villa Urquiza  \\\n",
       "0                    0                 0                 0   \n",
       "1                    0                 0                 0   \n",
       "2                    0                 0                 0   \n",
       "3                    0                 0                 0   \n",
       "4                    0                 0                 0   \n",
       "\n",
       "   l3_Villa del Parque  property_type_Casa  property_type_Departamento  \\\n",
       "0                    0                   0                           1   \n",
       "1                    0                   0                           0   \n",
       "2                    0                   0                           0   \n",
       "3                    0                   0                           0   \n",
       "4                    0                   0                           0   \n",
       "\n",
       "   property_type_PH  \n",
       "0                 0  \n",
       "1                 1  \n",
       "2                 1  \n",
       "3                 1  \n",
       "4                 1  \n",
       "\n",
       "[5 rows x 66 columns]"
      ]
     },
     "execution_count": 66,
     "metadata": {},
     "output_type": "execute_result"
    }
   ],
   "source": [
    "data.head(5)"
   ]
  },
  {
   "cell_type": "code",
   "execution_count": 67,
   "metadata": {},
   "outputs": [
    {
     "name": "stdout",
     "output_type": "stream",
     "text": [
      "<class 'pandas.core.frame.DataFrame'>\n",
      "RangeIndex: 75282 entries, 0 to 75281\n",
      "Data columns (total 66 columns):\n",
      " #   Column                      Non-Null Count  Dtype  \n",
      "---  ------                      --------------  -----  \n",
      " 0   rooms                       75282 non-null  float64\n",
      " 1   bedrooms                    75282 non-null  float64\n",
      " 2   bathrooms                   75282 non-null  float64\n",
      " 3   surface_total               75282 non-null  float64\n",
      " 4   surface_covered             75282 non-null  float64\n",
      " 5   price                       75282 non-null  float64\n",
      " 6   l3_Abasto                   75282 non-null  uint8  \n",
      " 7   l3_Agronomía                75282 non-null  uint8  \n",
      " 8   l3_Almagro                  75282 non-null  uint8  \n",
      " 9   l3_Balvanera                75282 non-null  uint8  \n",
      " 10  l3_Barracas                 75282 non-null  uint8  \n",
      " 11  l3_Barrio Norte             75282 non-null  uint8  \n",
      " 12  l3_Belgrano                 75282 non-null  uint8  \n",
      " 13  l3_Boca                     75282 non-null  uint8  \n",
      " 14  l3_Boedo                    75282 non-null  uint8  \n",
      " 15  l3_Caballito                75282 non-null  uint8  \n",
      " 16  l3_Catalinas                75282 non-null  uint8  \n",
      " 17  l3_Centro / Microcentro     75282 non-null  uint8  \n",
      " 18  l3_Chacarita                75282 non-null  uint8  \n",
      " 19  l3_Coghlan                  75282 non-null  uint8  \n",
      " 20  l3_Colegiales               75282 non-null  uint8  \n",
      " 21  l3_Congreso                 75282 non-null  uint8  \n",
      " 22  l3_Constitución             75282 non-null  uint8  \n",
      " 23  l3_Flores                   75282 non-null  uint8  \n",
      " 24  l3_Floresta                 75282 non-null  uint8  \n",
      " 25  l3_Las Cañitas              75282 non-null  uint8  \n",
      " 26  l3_Liniers                  75282 non-null  uint8  \n",
      " 27  l3_Mataderos                75282 non-null  uint8  \n",
      " 28  l3_Monserrat                75282 non-null  uint8  \n",
      " 29  l3_Monte Castro             75282 non-null  uint8  \n",
      " 30  l3_Nuñez                    75282 non-null  uint8  \n",
      " 31  l3_Once                     75282 non-null  uint8  \n",
      " 32  l3_Palermo                  75282 non-null  uint8  \n",
      " 33  l3_Parque Avellaneda        75282 non-null  uint8  \n",
      " 34  l3_Parque Centenario        75282 non-null  uint8  \n",
      " 35  l3_Parque Chacabuco         75282 non-null  uint8  \n",
      " 36  l3_Parque Chas              75282 non-null  uint8  \n",
      " 37  l3_Parque Patricios         75282 non-null  uint8  \n",
      " 38  l3_Paternal                 75282 non-null  uint8  \n",
      " 39  l3_Pompeya                  75282 non-null  uint8  \n",
      " 40  l3_Puerto Madero            75282 non-null  uint8  \n",
      " 41  l3_Recoleta                 75282 non-null  uint8  \n",
      " 42  l3_Retiro                   75282 non-null  uint8  \n",
      " 43  l3_Saavedra                 75282 non-null  uint8  \n",
      " 44  l3_San Cristobal            75282 non-null  uint8  \n",
      " 45  l3_San Nicolás              75282 non-null  uint8  \n",
      " 46  l3_San Telmo                75282 non-null  uint8  \n",
      " 47  l3_Tribunales               75282 non-null  uint8  \n",
      " 48  l3_Velez Sarsfield          75282 non-null  uint8  \n",
      " 49  l3_Versalles                75282 non-null  uint8  \n",
      " 50  l3_Villa Crespo             75282 non-null  uint8  \n",
      " 51  l3_Villa Devoto             75282 non-null  uint8  \n",
      " 52  l3_Villa General Mitre      75282 non-null  uint8  \n",
      " 53  l3_Villa Lugano             75282 non-null  uint8  \n",
      " 54  l3_Villa Luro               75282 non-null  uint8  \n",
      " 55  l3_Villa Ortuzar            75282 non-null  uint8  \n",
      " 56  l3_Villa Pueyrredón         75282 non-null  uint8  \n",
      " 57  l3_Villa Real               75282 non-null  uint8  \n",
      " 58  l3_Villa Riachuelo          75282 non-null  uint8  \n",
      " 59  l3_Villa Santa Rita         75282 non-null  uint8  \n",
      " 60  l3_Villa Soldati            75282 non-null  uint8  \n",
      " 61  l3_Villa Urquiza            75282 non-null  uint8  \n",
      " 62  l3_Villa del Parque         75282 non-null  uint8  \n",
      " 63  property_type_Casa          75282 non-null  uint8  \n",
      " 64  property_type_Departamento  75282 non-null  uint8  \n",
      " 65  property_type_PH            75282 non-null  uint8  \n",
      "dtypes: float64(6), uint8(60)\n",
      "memory usage: 7.8 MB\n"
     ]
    }
   ],
   "source": [
    "data.info()"
   ]
  },
  {
   "cell_type": "markdown",
   "metadata": {},
   "source": [
    "Gracias a la detección y eliminación de outliers, logramos también quedar sin valores nulos, por lo tanto no debemos hacer imputación."
   ]
  },
  {
   "cell_type": "code",
   "execution_count": 68,
   "metadata": {},
   "outputs": [
    {
     "data": {
      "text/plain": [
       "rooms              0\n",
       "bedrooms           0\n",
       "bathrooms          0\n",
       "surface_total      0\n",
       "surface_covered    0\n",
       "price              0\n",
       "l3_Abasto          0\n",
       "l3_Agronomía       0\n",
       "l3_Almagro         0\n",
       "l3_Balvanera       0\n",
       "l3_Barracas        0\n",
       "l3_Barrio Norte    0\n",
       "l3_Belgrano        0\n",
       "l3_Boca            0\n",
       "l3_Boedo           0\n",
       "dtype: int64"
      ]
     },
     "execution_count": 68,
     "metadata": {},
     "output_type": "execute_result"
    }
   ],
   "source": [
    "data.isnull().sum()[0:15]"
   ]
  },
  {
   "cell_type": "markdown",
   "metadata": {},
   "source": [
    "## Reducción de dimensionalidad PCA"
   ]
  },
  {
   "cell_type": "code",
   "execution_count": 69,
   "metadata": {},
   "outputs": [],
   "source": [
    "#X = data.drop(columns = 'price')\n",
    "#y = data[['price']]"
   ]
  },
  {
   "cell_type": "code",
   "execution_count": 70,
   "metadata": {},
   "outputs": [],
   "source": [
    "#from sklearn.decomposition import PCA\n",
    "#from sklearn.model_selection import GridSearchCV\n",
    "#pca = PCA(n_components=20)\n",
    "#X_nuevo = pca.fit_transform(X)"
   ]
  },
  {
   "cell_type": "code",
   "execution_count": 71,
   "metadata": {},
   "outputs": [
    {
     "name": "stdout",
     "output_type": "stream",
     "text": [
      "Wall time: 25.8 s\n"
     ]
    },
    {
     "name": "stderr",
     "output_type": "stream",
     "text": [
      "C:\\Users\\isabe\\Anaconda3\\lib\\site-packages\\sklearn\\model_selection\\_search.py:813: RuntimeWarning: invalid value encountered in subtract\n",
      "  array_stds = np.sqrt(np.average((array -\n"
     ]
    },
    {
     "data": {
      "text/plain": [
       "GridSearchCV(cv=5, estimator=PCA(random_state=42),\n",
       "             param_grid={'n_components': [10, 15, 20, 22, 25, 30, 32, 35, 45,\n",
       "                                          50, 60, 65]})"
      ]
     },
     "execution_count": 71,
     "metadata": {},
     "output_type": "execute_result"
    }
   ],
   "source": [
    "#%%time\n",
    "#pca_est = PCA(random_state=42)\n",
    "\n",
    "#param_grid = {'n_components': [10, 15, 20, 22, 25, 30, 32, 35, 45, 50, 60, 65]}\n",
    "\n",
    "#red_dim = GridSearchCV(pca_est, param_grid, cv=5)\n",
    "\n",
    "\n",
    "#red_dim.fit(X,y)"
   ]
  },
  {
   "cell_type": "code",
   "execution_count": 72,
   "metadata": {},
   "outputs": [
    {
     "data": {
      "text/plain": [
       "{'n_components': 60}"
      ]
     },
     "execution_count": 72,
     "metadata": {},
     "output_type": "execute_result"
    }
   ],
   "source": [
    "#red_dim.best_params_"
   ]
  },
  {
   "cell_type": "code",
   "execution_count": 73,
   "metadata": {},
   "outputs": [],
   "source": [
    "#pca = PCA(n_components=60)\n",
    "#X_nuevo = pca.fit_transform(X)"
   ]
  },
  {
   "cell_type": "code",
   "execution_count": 74,
   "metadata": {},
   "outputs": [],
   "source": [
    "#X_train, X_test, y_train, y_test = train_test_split(X_nuevo, y, test_size=0.33, random_state=42)"
   ]
  },
  {
   "cell_type": "code",
   "execution_count": 75,
   "metadata": {},
   "outputs": [],
   "source": [
    "#tree_regressor = DecisionTreeRegressor(max_depth= 6, random_state=42)"
   ]
  },
  {
   "cell_type": "code",
   "execution_count": 76,
   "metadata": {},
   "outputs": [
    {
     "data": {
      "text/plain": [
       "DecisionTreeRegressor(max_depth=6, random_state=42)"
      ]
     },
     "execution_count": 76,
     "metadata": {},
     "output_type": "execute_result"
    }
   ],
   "source": [
    "#tree_regressor.fit(X_train, y_train)"
   ]
  },
  {
   "cell_type": "code",
   "execution_count": 77,
   "metadata": {},
   "outputs": [],
   "source": [
    "#y_pred= tree_regressor.predict(X_test)"
   ]
  },
  {
   "cell_type": "code",
   "execution_count": 78,
   "metadata": {},
   "outputs": [
    {
     "data": {
      "text/plain": [
       "0.7441053364863325"
      ]
     },
     "execution_count": 78,
     "metadata": {},
     "output_type": "execute_result"
    }
   ],
   "source": [
    "#tree_regressor.score(X_train, y_train)"
   ]
  },
  {
   "cell_type": "code",
   "execution_count": 79,
   "metadata": {},
   "outputs": [
    {
     "data": {
      "text/plain": [
       "0.738200207596506"
      ]
     },
     "execution_count": 79,
     "metadata": {},
     "output_type": "execute_result"
    }
   ],
   "source": [
    "#tree_regressor.score(X_test, y_test)"
   ]
  },
  {
   "cell_type": "code",
   "execution_count": 80,
   "metadata": {},
   "outputs": [
    {
     "name": "stdout",
     "output_type": "stream",
     "text": [
      "Mean squared error: 6370479837.29\n",
      "Coefficient of determination: 0.74\n",
      "Mean absolute error: 46390.79\n"
     ]
    }
   ],
   "source": [
    "# The mean squared error\n",
    "#print('Mean squared error: %.2f'\n",
    "#      % mean_squared_error(y_test, y_pred))\n",
    "# The coefficient of determination: 1 is perfect prediction\n",
    "#print('Coefficient of determination: %.2f'\n",
    "#      % r2_score(y_test, y_pred))\n",
    "# The mean absolute error\n",
    "#print('Mean absolute error: %.2f'\n",
    "#      % mean_absolute_error(y_test, y_pred))"
   ]
  },
  {
   "cell_type": "markdown",
   "metadata": {},
   "source": [
    "El **MAE** para el caso de la reducción de dimensionalidad mejoró pero no sustancialmente. Es por está razón que se evade esta reducción dimensional para la modelación de los siguientes modelos."
   ]
  },
  {
   "cell_type": "markdown",
   "metadata": {},
   "source": [
    "## Modelo 1: Random Forest"
   ]
  },
  {
   "cell_type": "code",
   "execution_count": 20,
   "metadata": {},
   "outputs": [],
   "source": [
    "X_train, X_test, y_train, y_test = train_test_split(data.drop(columns='price'), data.price, test_size=0.33, random_state=42)"
   ]
  },
  {
   "cell_type": "code",
   "execution_count": 18,
   "metadata": {},
   "outputs": [],
   "source": [
    "from sklearn.model_selection import GridSearchCV\n",
    "from sklearn.ensemble import RandomForestRegressor"
   ]
  },
  {
   "cell_type": "code",
   "execution_count": 34,
   "metadata": {},
   "outputs": [
    {
     "name": "stdout",
     "output_type": "stream",
     "text": [
      "Wall time: 5h 14min 35s\n"
     ]
    },
    {
     "data": {
      "text/plain": [
       "GridSearchCV(estimator=RandomForestRegressor(random_state=42),\n",
       "             param_grid={'max_depth': array([20, 30, 40, 50, 60, 70, 80, 90]),\n",
       "                         'min_samples_leaf': [2, 4, 6],\n",
       "                         'n_estimators': array([100, 110, 120, 130, 140, 150])})"
      ]
     },
     "execution_count": 34,
     "metadata": {},
     "output_type": "execute_result"
    }
   ],
   "source": [
    "%%time\n",
    "param_grid = {'n_estimators': np.arange(100, 160, 10),\n",
    "              'min_samples_leaf': [2, 4, 6],\n",
    "              'max_depth'   : np.arange(20, 100, 10)\n",
    "             }\n",
    "random_forest = GridSearchCV(\n",
    "        estimator  = RandomForestRegressor(random_state = 42),\n",
    "        param_grid = param_grid)\n",
    "\n",
    "random_forest.fit(X = X_train, y = y_train) "
   ]
  },
  {
   "cell_type": "code",
   "execution_count": 35,
   "metadata": {},
   "outputs": [
    {
     "name": "stdout",
     "output_type": "stream",
     "text": [
      "Mejores hiperparámetros encontrados (cv)\n",
      "{'max_depth': 60, 'min_samples_leaf': 2, 'n_estimators': 120} : 0.8433293244634079 None\n"
     ]
    }
   ],
   "source": [
    "print(\"Mejores hiperparámetros encontrados (cv)\")\n",
    "print(random_forest.best_params_, \":\", random_forest.best_score_, random_forest.scoring)"
   ]
  },
  {
   "cell_type": "code",
   "execution_count": 36,
   "metadata": {},
   "outputs": [
    {
     "name": "stdout",
     "output_type": "stream",
     "text": [
      "Error absoluto medio (MAE): 23822.076547582503\n",
      "Error Cuadrático Medio (MSE): 2097827654.342457\n",
      "Raíz del Error Cuadrático Medio (RMSE): 45802.04858237737\n",
      "Coeficiente de determinación R2: 0.9104674086455653\n"
     ]
    }
   ],
   "source": [
    "#Medidas de entrenamiento\n",
    "print('Error absoluto medio (MAE):',mean_absolute_error(random_forest.predict(X_train), y_train))\n",
    "print('Error Cuadrático Medio (MSE):',mean_squared_error(random_forest.predict(X_train), y_train))\n",
    "print('Raíz del Error Cuadrático Medio (RMSE):',np.sqrt(mean_squared_error(random_forest.predict(X_train), y_train)))\n",
    "print('Coeficiente de determinación R2:',r2_score(y_train,random_forest.predict(X_train)))"
   ]
  },
  {
   "cell_type": "code",
   "execution_count": 37,
   "metadata": {},
   "outputs": [
    {
     "name": "stdout",
     "output_type": "stream",
     "text": [
      "Error absoluto medio (MAE): 30719.10546332747\n",
      "Error Cuadrático Medio (MSE): 3547308777.2020617\n",
      "Raíz del Error Cuadrático Medio (RMSE): 59559.28791718435\n",
      "Coeficiente de determinación R2: 0.8542206042271534\n"
     ]
    }
   ],
   "source": [
    "#Medidas en la prueba\n",
    "print('Error absoluto medio (MAE):',mean_absolute_error(random_forest.predict(X_test), y_test))\n",
    "print('Error Cuadrático Medio (MSE):',mean_squared_error(random_forest.predict(X_test), y_test))\n",
    "print('Raíz del Error Cuadrático Medio (RMSE):',np.sqrt(mean_squared_error(random_forest.predict(X_test), y_test)))\n",
    "print('Coeficiente de determinación R2:',r2_score(y_test,random_forest.predict(X_test)))"
   ]
  },
  {
   "cell_type": "markdown",
   "metadata": {},
   "source": [
    "**Mejores Hiperparámetros Random Forest**"
   ]
  },
  {
   "cell_type": "code",
   "execution_count": 38,
   "metadata": {},
   "outputs": [],
   "source": [
    "random_mod = RandomForestRegressor(n_estimators=120, max_depth=60, min_samples_leaf= 2, random_state= 42)"
   ]
  },
  {
   "cell_type": "code",
   "execution_count": 39,
   "metadata": {},
   "outputs": [
    {
     "data": {
      "text/plain": [
       "RandomForestRegressor(max_depth=60, min_samples_leaf=2, n_estimators=120,\n",
       "                      random_state=42)"
      ]
     },
     "execution_count": 39,
     "metadata": {},
     "output_type": "execute_result"
    }
   ],
   "source": [
    "random_mod.fit(X_train, y_train)"
   ]
  },
  {
   "cell_type": "code",
   "execution_count": 40,
   "metadata": {},
   "outputs": [
    {
     "name": "stdout",
     "output_type": "stream",
     "text": [
      "The mean squared error (MSE) on test set: 3547308777.2021\n"
     ]
    }
   ],
   "source": [
    "mse = mean_squared_error(y_test, random_mod.predict(X_test))\n",
    "print(\"The mean squared error (MSE) on test set: {:.4f}\".format(mse))"
   ]
  },
  {
   "cell_type": "code",
   "execution_count": 41,
   "metadata": {},
   "outputs": [
    {
     "name": "stdout",
     "output_type": "stream",
     "text": [
      "Error absoluto medio (MAE): 23822.076547582503\n",
      "Error Cuadrático Medio (MSE): 2097827654.342457\n",
      "Raíz del Error Cuadrático Medio (RMSE): 45802.04858237737\n",
      "Coeficiente de determinación R2: 0.9104674086455653\n"
     ]
    }
   ],
   "source": [
    "#Medidas de entrenamiento\n",
    "print('Error absoluto medio (MAE):',mean_absolute_error(random_mod.predict(X_train), y_train))\n",
    "print('Error Cuadrático Medio (MSE):',mean_squared_error(random_mod.predict(X_train), y_train))\n",
    "print('Raíz del Error Cuadrático Medio (RMSE):',np.sqrt(mean_squared_error(random_mod.predict(X_train), y_train)))\n",
    "print('Coeficiente de determinación R2:',r2_score(y_train, random_mod.predict(X_train)))"
   ]
  },
  {
   "cell_type": "code",
   "execution_count": 42,
   "metadata": {},
   "outputs": [
    {
     "name": "stdout",
     "output_type": "stream",
     "text": [
      "Error absoluto medio (MAE): 30719.10546332747\n",
      "Error Cuadrático Medio (MSE): 3547308777.2020617\n",
      "Raíz del Error Cuadrático Medio (RMSE): 59559.28791718435\n",
      "Coeficiente de determinación R2: 0.8542206042271534\n"
     ]
    }
   ],
   "source": [
    "#Medidas en la prueba\n",
    "print('Error absoluto medio (MAE):',mean_absolute_error(random_mod.predict(X_test), y_test))\n",
    "print('Error Cuadrático Medio (MSE):',mean_squared_error(random_mod.predict(X_test), y_test))\n",
    "print('Raíz del Error Cuadrático Medio (RMSE):',np.sqrt(mean_squared_error(random_mod.predict(X_test), y_test)))\n",
    "print('Coeficiente de determinación R2:',r2_score(y_test,random_mod.predict(X_test)))"
   ]
  },
  {
   "cell_type": "markdown",
   "metadata": {},
   "source": [
    "### Interpretación importancia de los atributos: Random Forest"
   ]
  },
  {
   "cell_type": "code",
   "execution_count": 37,
   "metadata": {},
   "outputs": [],
   "source": [
    "def plot_feature_importances(clf, X, y=None, top_n=10, figsize=(8,8), print_table=False, title=\"Feature Importances\"):\n",
    "    clf.fit(X, y)\n",
    "    feat_imp = pd.DataFrame({'importance': clf.feature_importances_})    \n",
    "    feat_imp['feature'] = X.columns\n",
    "    feat_imp.sort_values(by='importance', ascending=False, inplace=True)\n",
    "    feat_imp = feat_imp.iloc[:top_n]\n",
    "    \n",
    "    feat_imp.sort_values(by='importance', inplace=True)\n",
    "    feat_imp = feat_imp.set_index('feature', drop=True)\n",
    "    feat_imp.plot.barh(title=title, figsize=figsize)\n",
    "    plt.xlabel('Feature Importance Score')\n",
    "    plt.show()\n",
    "    \n",
    "    if print_table:\n",
    "        from IPython.display import display\n",
    "        print(\"Top {} features in descending order of importance\".format(top_n))\n",
    "        display(feat_imp.sort_values(by='importance', ascending=False))\n",
    "        \n",
    "    return feat_imp"
   ]
  },
  {
   "cell_type": "code",
   "execution_count": 44,
   "metadata": {
    "scrolled": true
   },
   "outputs": [
    {
     "data": {
      "image/png": "[encoded data removed]",
      "text/plain": [
       "<Figure size 576x576 with 1 Axes>"
      ]
     },
     "metadata": {
      "needs_background": "light"
     },
     "output_type": "display_data"
    },
    {
     "data": {
      "text/html": [
       "<div>\n",
       "<style scoped>\n",
       "    .dataframe tbody tr th:only-of-type {\n",
       "        vertical-align: middle;\n",
       "    }\n",
       "\n",
       "    .dataframe tbody tr th {\n",
       "        vertical-align: top;\n",
       "    }\n",
       "\n",
       "    .dataframe thead th {\n",
       "        text-align: right;\n",
       "    }\n",
       "</style>\n",
       "<table border=\"1\" class=\"dataframe\">\n",
       "  <thead>\n",
       "    <tr style=\"text-align: right;\">\n",
       "      <th></th>\n",
       "      <th>importance</th>\n",
       "    </tr>\n",
       "    <tr>\n",
       "      <th>feature</th>\n",
       "      <th></th>\n",
       "    </tr>\n",
       "  </thead>\n",
       "  <tbody>\n",
       "    <tr>\n",
       "      <th>bedrooms</th>\n",
       "      <td>0.013427</td>\n",
       "    </tr>\n",
       "    <tr>\n",
       "      <th>l3_Recoleta</th>\n",
       "      <td>0.015346</td>\n",
       "    </tr>\n",
       "    <tr>\n",
       "      <th>l3_Belgrano</th>\n",
       "      <td>0.018224</td>\n",
       "    </tr>\n",
       "    <tr>\n",
       "      <th>rooms</th>\n",
       "      <td>0.019401</td>\n",
       "    </tr>\n",
       "    <tr>\n",
       "      <th>l3_Palermo</th>\n",
       "      <td>0.030814</td>\n",
       "    </tr>\n",
       "    <tr>\n",
       "      <th>property_type_Departamento</th>\n",
       "      <td>0.042118</td>\n",
       "    </tr>\n",
       "    <tr>\n",
       "      <th>bathrooms</th>\n",
       "      <td>0.054007</td>\n",
       "    </tr>\n",
       "    <tr>\n",
       "      <th>l3_Puerto Madero</th>\n",
       "      <td>0.132086</td>\n",
       "    </tr>\n",
       "    <tr>\n",
       "      <th>surface_covered</th>\n",
       "      <td>0.287301</td>\n",
       "    </tr>\n",
       "    <tr>\n",
       "      <th>surface_total</th>\n",
       "      <td>0.338871</td>\n",
       "    </tr>\n",
       "  </tbody>\n",
       "</table>\n",
       "</div>"
      ],
      "text/plain": [
       "                            importance\n",
       "feature                               \n",
       "bedrooms                      0.013427\n",
       "l3_Recoleta                   0.015346\n",
       "l3_Belgrano                   0.018224\n",
       "rooms                         0.019401\n",
       "l3_Palermo                    0.030814\n",
       "property_type_Departamento    0.042118\n",
       "bathrooms                     0.054007\n",
       "l3_Puerto Madero              0.132086\n",
       "surface_covered               0.287301\n",
       "surface_total                 0.338871"
      ]
     },
     "execution_count": 44,
     "metadata": {},
     "output_type": "execute_result"
    }
   ],
   "source": [
    "plot_feature_importances(random_mod, X_train, y_train, title = 'Random Forest')"
   ]
  },
  {
   "attachments": {
    "image-2.png": {
     "image/png": "[encoded data removed]"
    }
   },
   "cell_type": "markdown",
   "metadata": {},
   "source": [
    "Tiene mucho sentido que tome la variable del barrio Puerto Madero entre sus tres features más importantes, ya que como habíamos detallado en EDA dado en el sprint 1, este barrio es el que presenta el mayor número de propiedades más costosas. Se puede detallar en el próximo gráfico:\n",
    "\n",
    "![image-2.png](attachment:image-2.png)"
   ]
  },
  {
   "cell_type": "markdown",
   "metadata": {},
   "source": [
    "## Modelo 2: XGBoost"
   ]
  },
  {
   "cell_type": "code",
   "execution_count": 15,
   "metadata": {},
   "outputs": [
    {
     "name": "stdout",
     "output_type": "stream",
     "text": [
      "Requirement already satisfied: xgboost in c:\\users\\isabe\\anaconda3\\lib\\site-packages (1.4.2)\n",
      "Requirement already satisfied: scipy in c:\\users\\isabe\\anaconda3\\lib\\site-packages (from xgboost) (1.5.2)\n",
      "Requirement already satisfied: numpy in c:\\users\\isabe\\anaconda3\\lib\\site-packages (from xgboost) (1.19.2)\n",
      "Note: you may need to restart the kernel to use updated packages.\n"
     ]
    }
   ],
   "source": [
    "pip install xgboost"
   ]
  },
  {
   "cell_type": "code",
   "execution_count": 16,
   "metadata": {},
   "outputs": [],
   "source": [
    "import xgboost as xgb"
   ]
  },
  {
   "cell_type": "code",
   "execution_count": 21,
   "metadata": {},
   "outputs": [
    {
     "name": "stdout",
     "output_type": "stream",
     "text": [
      "Wall time: 4h 39min 46s\n"
     ]
    },
    {
     "data": {
      "text/plain": [
       "GridSearchCV(estimator=XGBRegressor(base_score=None, booster=None,\n",
       "                                    colsample_bylevel=None,\n",
       "                                    colsample_bynode=None,\n",
       "                                    colsample_bytree=None, gamma=None,\n",
       "                                    gpu_id=None, importance_type='gain',\n",
       "                                    interaction_constraints=None,\n",
       "                                    learning_rate=None, max_delta_step=None,\n",
       "                                    max_depth=None, min_child_weight=None,\n",
       "                                    missing=nan, monotone_constraints=None,\n",
       "                                    n_estimators=100, n_jobs=None,\n",
       "                                    num_parallel_tree=None, random_state=42,\n",
       "                                    reg_alpha=None, reg_lambda=None,\n",
       "                                    scale_pos_weight=None, subsample=None,\n",
       "                                    tree_method=None, validate_parameters=None,\n",
       "                                    verbosity=0),\n",
       "             param_grid={'max_depth': array([ 1, 11, 21, 31, 41, 51, 61, 71, 81]),\n",
       "                         'n_estimators': array([ 10,  20,  30,  40,  50,  60,  70,  80,  90, 100, 110, 120, 130,\n",
       "       140, 150])})"
      ]
     },
     "execution_count": 21,
     "metadata": {},
     "output_type": "execute_result"
    }
   ],
   "source": [
    "%%time\n",
    "\n",
    "xgb_est = xgb.XGBRegressor(verbosity = 0, random_state= 42)\n",
    "\n",
    "params = {'n_estimators': np.arange(10, 160, 10),\n",
    "          'max_depth': np.arange(1, 90, 10),\n",
    "          }\n",
    "\n",
    "xgb_model = GridSearchCV(xgb_est, param_grid = params)\n",
    "\n",
    "xgb_model.fit(X_train,y_train)"
   ]
  },
  {
   "cell_type": "code",
   "execution_count": 27,
   "metadata": {},
   "outputs": [
    {
     "name": "stdout",
     "output_type": "stream",
     "text": [
      "The mean squared error (MSE) on test set: 3447202726.3159\n"
     ]
    }
   ],
   "source": [
    "mse = mean_squared_error(y_test, xgb_model.predict(X_test))\n",
    "print(\"The mean squared error (MSE) on test set: {:.4f}\".format(mse))"
   ]
  },
  {
   "cell_type": "code",
   "execution_count": 28,
   "metadata": {},
   "outputs": [
    {
     "name": "stdout",
     "output_type": "stream",
     "text": [
      "Mejores hiperparámetros encontrados (cv)\n",
      "{'max_depth': 11, 'n_estimators': 80} : 0.8458481212538753 None\n"
     ]
    }
   ],
   "source": [
    "print(\"Mejores hiperparámetros encontrados (cv)\")\n",
    "print(xgb_model.best_params_, \":\", xgb_model.best_score_, xgb_model.scoring)"
   ]
  },
  {
   "cell_type": "code",
   "execution_count": 29,
   "metadata": {},
   "outputs": [
    {
     "name": "stdout",
     "output_type": "stream",
     "text": [
      "Error absoluto medio (MAE): 24453.755294634626\n",
      "Error Cuadrático Medio (MSE): 1972407163.4016733\n",
      "Raíz del Error Cuadrático Medio (RMSE): 44411.790815071545\n",
      "Coeficiente de determinación R2: 0.9158201941995309\n"
     ]
    }
   ],
   "source": [
    "#Medidas de entrenamiento\n",
    "print('Error absoluto medio (MAE):',mean_absolute_error(xgb_model.predict(X_train), y_train))\n",
    "print('Error Cuadrático Medio (MSE):',mean_squared_error(xgb_model.predict(X_train), y_train))\n",
    "print('Raíz del Error Cuadrático Medio (RMSE):',np.sqrt(mean_squared_error(xgb_model.predict(X_train), y_train)))\n",
    "print('Coeficiente de determinación R2:',r2_score(y_train, xgb_model.predict(X_train)))"
   ]
  },
  {
   "cell_type": "code",
   "execution_count": 30,
   "metadata": {},
   "outputs": [
    {
     "name": "stdout",
     "output_type": "stream",
     "text": [
      "Error absoluto medio (MAE): 30914.056253600593\n",
      "Error Cuadrático Medio (MSE): 3447202726.3159094\n",
      "Raíz del Error Cuadrático Medio (RMSE): 58712.88381876596\n",
      "Coeficiente de determinación R2: 0.8583345397563011\n"
     ]
    }
   ],
   "source": [
    "#Medidas en la prueba\n",
    "print('Error absoluto medio (MAE):',mean_absolute_error(xgb_model.predict(X_test), y_test))\n",
    "print('Error Cuadrático Medio (MSE):',mean_squared_error(xgb_model.predict(X_test), y_test))\n",
    "print('Raíz del Error Cuadrático Medio (RMSE):',np.sqrt(mean_squared_error(xgb_model.predict(X_test), y_test)))\n",
    "print('Coeficiente de determinación R2:',r2_score(y_test, xgb_model.predict(X_test)))"
   ]
  },
  {
   "cell_type": "code",
   "execution_count": 46,
   "metadata": {},
   "outputs": [],
   "source": [
    "xgb_model = xgb.XGBRegressor(verbosity = 0, max_depth = 11, n_estimators = 80, random_state= 42)"
   ]
  },
  {
   "cell_type": "code",
   "execution_count": 47,
   "metadata": {},
   "outputs": [
    {
     "data": {
      "text/plain": [
       "XGBRegressor(base_score=0.5, booster='gbtree', colsample_bylevel=1,\n",
       "             colsample_bynode=1, colsample_bytree=1, gamma=0, gpu_id=-1,\n",
       "             importance_type='gain', interaction_constraints='',\n",
       "             learning_rate=0.300000012, max_delta_step=0, max_depth=11,\n",
       "             min_child_weight=1, missing=nan, monotone_constraints='()',\n",
       "             n_estimators=80, n_jobs=8, num_parallel_tree=1, random_state=42,\n",
       "             reg_alpha=0, reg_lambda=1, scale_pos_weight=1, subsample=1,\n",
       "             tree_method='exact', validate_parameters=1, verbosity=0)"
      ]
     },
     "execution_count": 47,
     "metadata": {},
     "output_type": "execute_result"
    }
   ],
   "source": [
    "xgb_model.fit(X_train,y_train)"
   ]
  },
  {
   "cell_type": "markdown",
   "metadata": {},
   "source": [
    "### Interpretación importancia de los atributos: XGBoost"
   ]
  },
  {
   "cell_type": "code",
   "execution_count": 49,
   "metadata": {},
   "outputs": [
    {
     "data": {
      "text/plain": [
       "<AxesSubplot:title={'center':'Feature importance'}, xlabel='F score', ylabel='Features'>"
      ]
     },
     "execution_count": 49,
     "metadata": {},
     "output_type": "execute_result"
    },
    {
     "data": {
      "image/png": "[encoded data removed]",
      "text/plain": [
       "<Figure size 432x288 with 1 Axes>"
      ]
     },
     "metadata": {
      "needs_background": "light"
     },
     "output_type": "display_data"
    }
   ],
   "source": [
    "xgb.plot_importance(xgb_model, ax = plt.gca(), max_num_features= 10)"
   ]
  },
  {
   "cell_type": "markdown",
   "metadata": {},
   "source": [
    "## Histograma RMSE"
   ]
  },
  {
   "cell_type": "code",
   "execution_count": 33,
   "metadata": {
    "scrolled": true
   },
   "outputs": [
    {
     "name": "stdout",
     "output_type": "stream",
     "text": [
      "Modelo: Random Forest\n",
      "Raíz del error cuadrático medio en Train: 45802.04858237737\n",
      "Raíz del error cuadrático medio en Test: 59559.28791718435\n"
     ]
    },
    {
     "data": {
      "image/png": "[encoded data removed]",
      "text/plain": [
       "<Figure size 576x288 with 2 Axes>"
      ]
     },
     "metadata": {
      "needs_background": "light"
     },
     "output_type": "display_data"
    },
    {
     "name": "stdout",
     "output_type": "stream",
     "text": [
      "Modelo: Xtreme Gradient Boosting Regressor\n",
      "Raíz del error cuadrático medio en Train: 44411.790815071545\n",
      "Raíz del error cuadrático medio en Test: 58712.88381876596\n"
     ]
    },
    {
     "data": {
      "image/png": "[encoded data removed]",
      "text/plain": [
       "<Figure size 576x288 with 2 Axes>"
      ]
     },
     "metadata": {
      "needs_background": "light"
     },
     "output_type": "display_data"
    }
   ],
   "source": [
    "modelos = ['Random Forest', 'Xtreme Gradient Boosting Regressor']\n",
    "\n",
    "for i, model in enumerate([random_mod, xgb_model]):\n",
    "    y_train_pred = model.predict(X_train)\n",
    "    y_test_pred = model.predict(X_test)\n",
    "    \n",
    "    print(f'Modelo: {modelos[i]}')\n",
    "    rmse_train = np.sqrt(mean_squared_error(y_train, y_train_pred))\n",
    "    rmse_test = np.sqrt(mean_squared_error(y_test, y_test_pred))\n",
    "    print(f'Raíz del error cuadrático medio en Train: {rmse_train}')\n",
    "    print(f'Raíz del error cuadrático medio en Test: {rmse_test}')\n",
    "    \n",
    "    plt.figure(figsize = (8,4))\n",
    "\n",
    "    plt.subplot(1,2,1)\n",
    "    sns.histplot(y_train - y_train_pred, bins = 20, label = 'train')\n",
    "    sns.histplot(y_test - y_test_pred, bins = 20, label = 'test', color = 'yellow')\n",
    "    plt.xlabel('errores')\n",
    "    plt.legend()\n",
    "\n",
    "    ax = plt.subplot(1,2,2)\n",
    "    ax.scatter(y_test,y_test_pred, s =2)    \n",
    "    lims = [\n",
    "    np.min([ax.get_xlim(), ax.get_ylim()]),  # min of both axes\n",
    "    np.max([ax.get_xlim(), ax.get_ylim()]),  # max of both axes]\n",
    "    ]\n",
    "    \n",
    "    ax.plot(lims, lims, 'k-', alpha=0.75, zorder=0)\n",
    "    plt.xlabel('y (test)')\n",
    "    plt.ylabel('y_pred (test)')\n",
    "    \n",
    "    plt.tight_layout()\n",
    "    plt.show()"
   ]
  },
  {
   "cell_type": "markdown",
   "metadata": {},
   "source": [
    "De acuerdo a la distribución de los errores que vemos acá arriba, podemos observar que estos errores en ambos modelos se concentran en el centro y que la distribución de los errores entre ambos sets (Train y Test) se encuentran dispuestas de tamaño proporcional para ambos modelos. También vemos aunque no es muy evidente, una pequeña cola hacia la derecha de la distribución, volviendo a evidenciar el sesgo que se presentan en los datos en general con respecto al precio de la propiedad. \n",
    "\n",
    "Por otro lado, se obtuvo una mejoria en el RMSE para el modelo de XGBoost, finalmente siendo este el modelo escogido como más indicado y de mejor operación. "
   ]
  },
  {
   "cell_type": "markdown",
   "metadata": {},
   "source": [
    "### Propuestas de Mejora\n",
    "\n",
    "Los tiempos de computo son muy altos para ambos modelos, por lo tanto sería viable buscar otra alternativa para realizar la ejecución de modo más efectivo, ya sea ejecutando varios equipos en pararelo, por ejemplo, para el caso del modelo Random Forest. \n",
    "\n",
    "Otra alternativa, sería aplicar redes neuronales para este propósito con la finalidad de reducir el costo computacional y observar si se evidencia algún tipo de mejora en los resultados de los errores cuadráticos medios. \n"
   ]
  },
  {
   "cell_type": "markdown",
   "metadata": {},
   "source": [
    "_________________________"
   ]
  }
 ],
 "metadata": {
  "kernelspec": {
   "display_name": "Python 3",
   "language": "python",
   "name": "python3"
  },
  "language_info": {
   "codemirror_mode": {
    "name": "ipython",
    "version": 3
   },
   "file_extension": ".py",
   "mimetype": "text/x-python",
   "name": "python",
   "nbconvert_exporter": "python",
   "pygments_lexer": "ipython3",
   "version": "3.8.5"
  }
 },
 "nbformat": 4,
 "nbformat_minor": 4
}
